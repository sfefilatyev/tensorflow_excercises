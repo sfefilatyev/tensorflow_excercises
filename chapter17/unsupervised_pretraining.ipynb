{
 "cells": [
  {
   "cell_type": "markdown",
   "metadata": {},
   "source": [
    "# Unsupervised pretraining"
   ]
  },
  {
   "cell_type": "code",
   "execution_count": 1,
   "metadata": {},
   "outputs": [
    {
     "name": "stdout",
     "output_type": "stream",
     "text": [
      "No GPU was detected. LSTMs and CNNs can be very slow without a GPU.\n"
     ]
    }
   ],
   "source": [
    "# Setup imports:\n",
    "# Python ≥3.5 is required\n",
    "import sys\n",
    "assert sys.version_info >= (3, 5)\n",
    "\n",
    "# Scikit-Learn ≥0.20 is required\n",
    "import sklearn\n",
    "assert sklearn.__version__ >= \"0.20\"\n",
    "\n",
    "try:\n",
    "    # %tensorflow_version only exists in Colab.\n",
    "    %tensorflow_version 2.x\n",
    "    IS_COLAB = True\n",
    "except Exception:\n",
    "    IS_COLAB = False\n",
    "\n",
    "# TensorFlow ≥2.0 is required\n",
    "import tensorflow as tf\n",
    "from tensorflow import keras\n",
    "assert tf.__version__ >= \"2.0\"\n",
    "\n",
    "if not tf.config.list_physical_devices('GPU'):\n",
    "    print(\"No GPU was detected. LSTMs and CNNs can be very slow without a GPU.\")\n",
    "    if IS_COLAB:\n",
    "        print(\"Go to Runtime > Change runtime and select a GPU hardware accelerator.\")\n",
    "\n",
    "# Common imports\n",
    "import numpy as np\n",
    "import os\n",
    "\n",
    "# to make this notebook's output stable across runs\n",
    "np.random.seed(42)\n",
    "tf.random.set_seed(42)\n",
    "\n",
    "# To plot pretty figures\n",
    "%matplotlib inline\n",
    "import matplotlib as mpl\n",
    "import matplotlib.pyplot as plt\n",
    "mpl.rc('axes', labelsize=14)\n",
    "mpl.rc('xtick', labelsize=12)\n",
    "mpl.rc('ytick', labelsize=12)\n",
    "\n",
    "# Where to save the figures\n",
    "PROJECT_ROOT_DIR = \".\"\n",
    "CHAPTER_ID = \"autoencoders\"\n",
    "IMAGES_PATH = os.path.join(PROJECT_ROOT_DIR, \"images\", CHAPTER_ID)\n",
    "os.makedirs(IMAGES_PATH, exist_ok=True)\n",
    "\n",
    "def save_fig(fig_id, tight_layout=True, fig_extension=\"png\", resolution=300):\n",
    "    path = os.path.join(IMAGES_PATH, fig_id + \".\" + fig_extension)\n",
    "    print(\"Saving figure\", fig_id)\n",
    "    if tight_layout:\n",
    "        plt.tight_layout()\n",
    "    plt.savefig(path, format=fig_extension, dpi=resolution)"
   ]
  },
  {
   "cell_type": "code",
   "execution_count": 2,
   "metadata": {},
   "outputs": [],
   "source": [
    "# Using Fashion-MNIST\n",
    "(X_train_full, y_train_full), (X_test, y_test) = keras.datasets.fashion_mnist.load_data()\n",
    "X_train_full = X_train_full.astype(np.float32) / 255\n",
    "X_test = X_test.astype(np.float32) / 255\n",
    "X_train, X_valid = X_train_full[:-5000], X_train_full[-5000:]\n",
    "y_train, y_valid = y_train_full[:-5000], y_train_full[-5000:]"
   ]
  },
  {
   "cell_type": "code",
   "execution_count": 3,
   "metadata": {},
   "outputs": [
    {
     "name": "stdout",
     "output_type": "stream",
     "text": [
      "Epoch 1/20\n",
      "16/16 [==============================] - 1s 61ms/step - loss: 2.2651 - accuracy: 0.2093 - val_loss: 1.9777 - val_accuracy: 0.4184\n",
      "Epoch 2/20\n",
      "16/16 [==============================] - 1s 37ms/step - loss: 1.8718 - accuracy: 0.4904 - val_loss: 1.6259 - val_accuracy: 0.5408\n",
      "Epoch 3/20\n",
      "16/16 [==============================] - 1s 36ms/step - loss: 1.4719 - accuracy: 0.5774 - val_loss: 1.2590 - val_accuracy: 0.6036\n",
      "Epoch 4/20\n",
      "16/16 [==============================] - 1s 36ms/step - loss: 1.1272 - accuracy: 0.6754 - val_loss: 1.0043 - val_accuracy: 0.6886\n",
      "Epoch 5/20\n",
      "16/16 [==============================] - 1s 41ms/step - loss: 1.0450 - accuracy: 0.6360 - val_loss: 0.9249 - val_accuracy: 0.6932\n",
      "Epoch 6/20\n",
      "16/16 [==============================] - 1s 38ms/step - loss: 0.9584 - accuracy: 0.6508 - val_loss: 0.8596 - val_accuracy: 0.7004\n",
      "Epoch 7/20\n",
      "16/16 [==============================] - 1s 35ms/step - loss: 0.7987 - accuracy: 0.7431 - val_loss: 0.8069 - val_accuracy: 0.7024\n",
      "Epoch 8/20\n",
      "16/16 [==============================] - 1s 35ms/step - loss: 0.7846 - accuracy: 0.7499 - val_loss: 0.7670 - val_accuracy: 0.7150\n",
      "Epoch 9/20\n",
      "16/16 [==============================] - 1s 35ms/step - loss: 0.6766 - accuracy: 0.7786 - val_loss: 0.7002 - val_accuracy: 0.7514\n",
      "Epoch 10/20\n",
      "16/16 [==============================] - 1s 39ms/step - loss: 0.6575 - accuracy: 0.7870 - val_loss: 0.7845 - val_accuracy: 0.6916\n",
      "Epoch 11/20\n",
      "16/16 [==============================] - 1s 40ms/step - loss: 0.6312 - accuracy: 0.7876 - val_loss: 0.7607 - val_accuracy: 0.7314\n",
      "Epoch 12/20\n",
      "16/16 [==============================] - 1s 38ms/step - loss: 0.6731 - accuracy: 0.7807 - val_loss: 1.0212 - val_accuracy: 0.6606\n",
      "Epoch 13/20\n",
      "16/16 [==============================] - 1s 44ms/step - loss: 0.6518 - accuracy: 0.7671 - val_loss: 0.6985 - val_accuracy: 0.7362\n",
      "Epoch 14/20\n",
      "16/16 [==============================] - 1s 43ms/step - loss: 0.6349 - accuracy: 0.7887 - val_loss: 0.8015 - val_accuracy: 0.7076\n",
      "Epoch 15/20\n",
      "16/16 [==============================] - 1s 37ms/step - loss: 0.6059 - accuracy: 0.7926 - val_loss: 0.6541 - val_accuracy: 0.7622\n",
      "Epoch 16/20\n",
      "16/16 [==============================] - 1s 38ms/step - loss: 0.5577 - accuracy: 0.8049 - val_loss: 0.6356 - val_accuracy: 0.7706\n",
      "Epoch 17/20\n",
      "16/16 [==============================] - 1s 37ms/step - loss: 0.5127 - accuracy: 0.8120 - val_loss: 0.6282 - val_accuracy: 0.7698\n",
      "Epoch 18/20\n",
      "16/16 [==============================] - 1s 38ms/step - loss: 0.5172 - accuracy: 0.8128 - val_loss: 0.6183 - val_accuracy: 0.7700\n",
      "Epoch 19/20\n",
      "16/16 [==============================] - 1s 37ms/step - loss: 0.5218 - accuracy: 0.8210 - val_loss: 0.6255 - val_accuracy: 0.7626\n",
      "Epoch 20/20\n",
      "16/16 [==============================] - 0s 33ms/step - loss: 0.4391 - accuracy: 0.8497 - val_loss: 0.6351 - val_accuracy: 0.7742\n"
     ]
    }
   ],
   "source": [
    "tf.random.set_seed(42)\n",
    "np.random.seed(42)\n",
    "\n",
    "X_train_small = X_train[:500]\n",
    "y_train_small = y_train[:500]\n",
    "\n",
    "classifier = keras.models.Sequential([\n",
    "    keras.layers.Reshape([28, 28, 1], input_shape=[28, 28]),\n",
    "    keras.layers.Conv2D(16, kernel_size=3, padding=\"SAME\", activation=\"selu\"),\n",
    "    keras.layers.MaxPool2D(pool_size=2),\n",
    "    keras.layers.Conv2D(32, kernel_size=3, padding=\"SAME\", activation=\"selu\"),\n",
    "    keras.layers.MaxPool2D(pool_size=2),\n",
    "    keras.layers.Conv2D(64, kernel_size=3, padding=\"SAME\", activation=\"selu\"),\n",
    "    keras.layers.MaxPool2D(pool_size=2),\n",
    "    keras.layers.Flatten(),\n",
    "    keras.layers.Dense(20, activation=\"selu\"),\n",
    "    keras.layers.Dense(10, activation=\"softmax\")\n",
    "])\n",
    "classifier.compile(loss=\"sparse_categorical_crossentropy\", optimizer=keras.optimizers.SGD(lr=0.02),\n",
    "                   metrics=[\"accuracy\"])\n",
    "history = classifier.fit(X_train_small, y_train_small, epochs=20, validation_data=(X_valid, y_valid))"
   ]
  },
  {
   "cell_type": "code",
   "execution_count": 4,
   "metadata": {},
   "outputs": [
    {
     "data": {
      "image/png": "[encoded data removed]",
      "text/plain": [
       "<Figure size 432x288 with 1 Axes>"
      ]
     },
     "metadata": {
      "needs_background": "light"
     },
     "output_type": "display_data"
    }
   ],
   "source": [
    "import pandas as pd\n",
    "pd.DataFrame(history.history).plot()\n",
    "plt.show()"
   ]
  },
  {
   "cell_type": "code",
   "execution_count": 5,
   "metadata": {},
   "outputs": [],
   "source": [
    "# utility metric\n",
    "def rounded_accuracy(y_true, y_pred):\n",
    "    return keras.metrics.binary_accuracy(tf.round(y_true), tf.round(y_pred))"
   ]
  },
  {
   "cell_type": "code",
   "execution_count": 6,
   "metadata": {},
   "outputs": [
    {
     "name": "stdout",
     "output_type": "stream",
     "text": [
      "Epoch 1/5\n",
      "1719/1719 [==============================] - 16s 9ms/step - loss: 0.3377 - rounded_accuracy: 0.8895 - val_loss: 0.2848 - val_rounded_accuracy: 0.9288\n",
      "Epoch 2/5\n",
      "1719/1719 [==============================] - 16s 9ms/step - loss: 0.2776 - rounded_accuracy: 0.9393 - val_loss: 0.2730 - val_rounded_accuracy: 0.9452\n",
      "Epoch 3/5\n",
      "1719/1719 [==============================] - 16s 9ms/step - loss: 0.2717 - rounded_accuracy: 0.9452 - val_loss: 0.2696 - val_rounded_accuracy: 0.9497\n",
      "Epoch 4/5\n",
      "1719/1719 [==============================] - 18s 10ms/step - loss: 0.2690 - rounded_accuracy: 0.9484 - val_loss: 0.2685 - val_rounded_accuracy: 0.9492\n",
      "Epoch 5/5\n",
      "1719/1719 [==============================] - 17s 10ms/step - loss: 0.2668 - rounded_accuracy: 0.9506 - val_loss: 0.2674 - val_rounded_accuracy: 0.9504\n"
     ]
    }
   ],
   "source": [
    "# code for convolutional auto-encoder:\n",
    "tf.random.set_seed(42)\n",
    "np.random.seed(42)\n",
    "\n",
    "conv_encoder = keras.models.Sequential([\n",
    "    keras.layers.Reshape([28, 28, 1], input_shape=[28, 28]),\n",
    "    keras.layers.Conv2D(16, kernel_size=3, padding=\"SAME\", activation=\"selu\"),\n",
    "    keras.layers.MaxPool2D(pool_size=2),\n",
    "    keras.layers.Conv2D(32, kernel_size=3, padding=\"SAME\", activation=\"selu\"),\n",
    "    keras.layers.MaxPool2D(pool_size=2),\n",
    "    keras.layers.Conv2D(64, kernel_size=3, padding=\"SAME\", activation=\"selu\"),\n",
    "    keras.layers.MaxPool2D(pool_size=2)\n",
    "])\n",
    "conv_decoder = keras.models.Sequential([\n",
    "    keras.layers.Conv2DTranspose(32, kernel_size=3, strides=2, padding=\"VALID\", activation=\"selu\",\n",
    "                                 input_shape=[3, 3, 64]),\n",
    "    keras.layers.Conv2DTranspose(16, kernel_size=3, strides=2, padding=\"SAME\", activation=\"selu\"),\n",
    "    keras.layers.Conv2DTranspose(1, kernel_size=3, strides=2, padding=\"SAME\", activation=\"sigmoid\"),\n",
    "    keras.layers.Reshape([28, 28])\n",
    "])\n",
    "conv_ae = keras.models.Sequential([conv_encoder, conv_decoder])\n",
    "\n",
    "conv_ae.compile(loss=\"binary_crossentropy\", optimizer=keras.optimizers.SGD(lr=1.0),\n",
    "                metrics=[rounded_accuracy])\n",
    "history = conv_ae.fit(X_train, X_train, epochs=5,\n",
    "                      validation_data=(X_valid, X_valid))"
   ]
  },
  {
   "cell_type": "code",
   "execution_count": 7,
   "metadata": {},
   "outputs": [],
   "source": [
    "tf.random.set_seed(42)\n",
    "np.random.seed(42)\n",
    "\n",
    "conv_encoder_clone = keras.models.clone_model(conv_encoder)\n",
    "\n",
    "pretrained_clf = keras.models.Sequential([\n",
    "    conv_encoder_clone,\n",
    "    keras.layers.Flatten(),\n",
    "    keras.layers.Dense(20, activation=\"selu\"),\n",
    "    keras.layers.Dense(10, activation=\"softmax\")\n",
    "])"
   ]
  },
  {
   "cell_type": "code",
   "execution_count": 8,
   "metadata": {},
   "outputs": [
    {
     "name": "stdout",
     "output_type": "stream",
     "text": [
      "Epoch 1/30\n",
      "16/16 [==============================] - 1s 40ms/step - loss: 2.3378 - accuracy: 0.1521 - val_loss: 2.2306 - val_accuracy: 0.2382\n",
      "Epoch 2/30\n",
      "16/16 [==============================] - 0s 33ms/step - loss: 2.2126 - accuracy: 0.2548 - val_loss: 2.1302 - val_accuracy: 0.3560\n",
      "Epoch 3/30\n",
      "16/16 [==============================] - 0s 33ms/step - loss: 2.1059 - accuracy: 0.3816 - val_loss: 2.0362 - val_accuracy: 0.4132\n",
      "Epoch 4/30\n",
      "16/16 [==============================] - 1s 33ms/step - loss: 2.0001 - accuracy: 0.4831 - val_loss: 1.9561 - val_accuracy: 0.5152\n",
      "Epoch 5/30\n",
      "16/16 [==============================] - 1s 33ms/step - loss: 1.9365 - accuracy: 0.5318 - val_loss: 1.8746 - val_accuracy: 0.5920\n",
      "Epoch 6/30\n",
      "16/16 [==============================] - 0s 33ms/step - loss: 1.8599 - accuracy: 0.5879 - val_loss: 1.7987 - val_accuracy: 0.6340\n",
      "Epoch 7/30\n",
      "16/16 [==============================] - 1s 34ms/step - loss: 1.7754 - accuracy: 0.6632 - val_loss: 1.7221 - val_accuracy: 0.6414\n",
      "Epoch 8/30\n",
      "16/16 [==============================] - 1s 33ms/step - loss: 1.7077 - accuracy: 0.6757 - val_loss: 1.6541 - val_accuracy: 0.6502\n",
      "Epoch 9/30\n",
      "16/16 [==============================] - 1s 33ms/step - loss: 1.6201 - accuracy: 0.7392 - val_loss: 1.5943 - val_accuracy: 0.6514\n",
      "Epoch 10/30\n",
      "16/16 [==============================] - 1s 34ms/step - loss: 1.5568 - accuracy: 0.7044 - val_loss: 1.5282 - val_accuracy: 0.6734\n",
      "Epoch 11/30\n",
      "16/16 [==============================] - 0s 33ms/step - loss: 1.4911 - accuracy: 0.7313 - val_loss: 1.4739 - val_accuracy: 0.6706\n",
      "Epoch 12/30\n",
      "16/16 [==============================] - 0s 33ms/step - loss: 1.4686 - accuracy: 0.7158 - val_loss: 1.4201 - val_accuracy: 0.6764\n",
      "Epoch 13/30\n",
      "16/16 [==============================] - 1s 34ms/step - loss: 1.3788 - accuracy: 0.7416 - val_loss: 1.3725 - val_accuracy: 0.6878\n",
      "Epoch 14/30\n",
      "16/16 [==============================] - 1s 38ms/step - loss: 1.3563 - accuracy: 0.7534 - val_loss: 1.3352 - val_accuracy: 0.6758\n",
      "Epoch 15/30\n",
      "16/16 [==============================] - 1s 35ms/step - loss: 1.2907 - accuracy: 0.7224 - val_loss: 1.2872 - val_accuracy: 0.6950\n",
      "Epoch 16/30\n",
      "16/16 [==============================] - 1s 36ms/step - loss: 1.2339 - accuracy: 0.7231 - val_loss: 1.2526 - val_accuracy: 0.6908\n",
      "Epoch 17/30\n",
      "16/16 [==============================] - 1s 34ms/step - loss: 1.2099 - accuracy: 0.7701 - val_loss: 1.2158 - val_accuracy: 0.6946\n",
      "Epoch 18/30\n",
      "16/16 [==============================] - 1s 35ms/step - loss: 1.1801 - accuracy: 0.7446 - val_loss: 1.1824 - val_accuracy: 0.7024\n",
      "Epoch 19/30\n",
      "16/16 [==============================] - 1s 39ms/step - loss: 1.1872 - accuracy: 0.7216 - val_loss: 1.1519 - val_accuracy: 0.7074\n",
      "Epoch 20/30\n",
      "16/16 [==============================] - 0s 33ms/step - loss: 1.0970 - accuracy: 0.7593 - val_loss: 1.1242 - val_accuracy: 0.7092\n",
      "Epoch 21/30\n",
      "16/16 [==============================] - 0s 32ms/step - loss: 1.1117 - accuracy: 0.7519 - val_loss: 1.0991 - val_accuracy: 0.7086\n",
      "Epoch 22/30\n",
      "16/16 [==============================] - 1s 37ms/step - loss: 1.0825 - accuracy: 0.7863 - val_loss: 1.0753 - val_accuracy: 0.7126\n",
      "Epoch 23/30\n",
      "16/16 [==============================] - 1s 35ms/step - loss: 1.0054 - accuracy: 0.7710 - val_loss: 1.0566 - val_accuracy: 0.7092\n",
      "Epoch 24/30\n",
      "16/16 [==============================] - 1s 34ms/step - loss: 1.0527 - accuracy: 0.7383 - val_loss: 1.0348 - val_accuracy: 0.7160\n",
      "Epoch 25/30\n",
      "16/16 [==============================] - 1s 37ms/step - loss: 1.0027 - accuracy: 0.7645 - val_loss: 1.0176 - val_accuracy: 0.7120\n",
      "Epoch 26/30\n",
      "16/16 [==============================] - 0s 33ms/step - loss: 0.9730 - accuracy: 0.7451 - val_loss: 0.9972 - val_accuracy: 0.7146\n",
      "Epoch 27/30\n",
      "16/16 [==============================] - 1s 37ms/step - loss: 0.9608 - accuracy: 0.7634 - val_loss: 0.9803 - val_accuracy: 0.7196\n",
      "Epoch 28/30\n",
      "16/16 [==============================] - 1s 41ms/step - loss: 0.9576 - accuracy: 0.7713 - val_loss: 0.9660 - val_accuracy: 0.7212\n",
      "Epoch 29/30\n",
      "16/16 [==============================] - 1s 34ms/step - loss: 0.9565 - accuracy: 0.7555 - val_loss: 0.9533 - val_accuracy: 0.7228\n",
      "Epoch 30/30\n",
      "16/16 [==============================] - 1s 35ms/step - loss: 0.9269 - accuracy: 0.7383 - val_loss: 0.9391 - val_accuracy: 0.7250\n"
     ]
    }
   ],
   "source": [
    "# Having the trunk pre-trained provides higher accuracy\n",
    "conv_encoder_clone.trainable = False\n",
    "pretrained_clf.compile(loss=\"sparse_categorical_crossentropy\",\n",
    "                       optimizer=keras.optimizers.SGD(lr=0.02),\n",
    "                       metrics=[\"accuracy\"])\n",
    "history = pretrained_clf.fit(X_train_small, y_train_small, epochs=30,\n",
    "                             validation_data=(X_valid, y_valid))"
   ]
  },
  {
   "cell_type": "code",
   "execution_count": 10,
   "metadata": {},
   "outputs": [
    {
     "name": "stdout",
     "output_type": "stream",
     "text": [
      "Epoch 1/20\n",
      "16/16 [==============================] - 1s 43ms/step - loss: 0.3851 - accuracy: 0.8556 - val_loss: 0.5952 - val_accuracy: 0.7686\n",
      "Epoch 2/20\n",
      "16/16 [==============================] - 1s 36ms/step - loss: 0.3774 - accuracy: 0.8820 - val_loss: 0.5757 - val_accuracy: 0.7898\n",
      "Epoch 3/20\n",
      "16/16 [==============================] - 1s 35ms/step - loss: 0.3381 - accuracy: 0.8902 - val_loss: 0.6026 - val_accuracy: 0.7788\n",
      "Epoch 4/20\n",
      "16/16 [==============================] - 1s 38ms/step - loss: 0.3771 - accuracy: 0.8641 - val_loss: 0.5949 - val_accuracy: 0.7860\n",
      "Epoch 5/20\n",
      "16/16 [==============================] - 1s 43ms/step - loss: 0.3924 - accuracy: 0.8630 - val_loss: 0.5610 - val_accuracy: 0.7866\n",
      "Epoch 6/20\n",
      "16/16 [==============================] - 1s 37ms/step - loss: 0.3641 - accuracy: 0.8711 - val_loss: 0.5968 - val_accuracy: 0.7776\n",
      "Epoch 7/20\n",
      "16/16 [==============================] - 1s 76ms/step - loss: 0.3426 - accuracy: 0.8791 - val_loss: 0.5724 - val_accuracy: 0.7950\n",
      "Epoch 8/20\n",
      "16/16 [==============================] - 1s 41ms/step - loss: 0.3134 - accuracy: 0.9033 - val_loss: 0.5522 - val_accuracy: 0.8012\n",
      "Epoch 9/20\n",
      "16/16 [==============================] - 1s 40ms/step - loss: 0.3015 - accuracy: 0.8951 - val_loss: 0.5629 - val_accuracy: 0.7952\n",
      "Epoch 10/20\n",
      "16/16 [==============================] - 1s 45ms/step - loss: 0.3204 - accuracy: 0.8887 - val_loss: 0.5445 - val_accuracy: 0.8022\n",
      "Epoch 11/20\n",
      "16/16 [==============================] - 1s 34ms/step - loss: 0.2913 - accuracy: 0.9056 - val_loss: 0.5762 - val_accuracy: 0.7960\n",
      "Epoch 12/20\n",
      "16/16 [==============================] - 1s 34ms/step - loss: 0.2830 - accuracy: 0.9212 - val_loss: 0.6518 - val_accuracy: 0.7748\n",
      "Epoch 13/20\n",
      "16/16 [==============================] - 1s 34ms/step - loss: 0.2728 - accuracy: 0.9189 - val_loss: 0.5867 - val_accuracy: 0.7862\n",
      "Epoch 14/20\n",
      "16/16 [==============================] - 1s 34ms/step - loss: 0.3070 - accuracy: 0.8953 - val_loss: 0.5856 - val_accuracy: 0.7984\n",
      "Epoch 15/20\n",
      "16/16 [==============================] - 1s 34ms/step - loss: 0.2616 - accuracy: 0.9143 - val_loss: 0.5575 - val_accuracy: 0.8008\n",
      "Epoch 16/20\n",
      "16/16 [==============================] - 1s 34ms/step - loss: 0.2491 - accuracy: 0.9181 - val_loss: 0.5586 - val_accuracy: 0.8078\n",
      "Epoch 17/20\n",
      "16/16 [==============================] - 1s 36ms/step - loss: 0.2553 - accuracy: 0.9231 - val_loss: 0.5542 - val_accuracy: 0.8038\n",
      "Epoch 18/20\n",
      "16/16 [==============================] - 1s 37ms/step - loss: 0.2377 - accuracy: 0.9361 - val_loss: 0.5461 - val_accuracy: 0.8050\n",
      "Epoch 19/20\n",
      "16/16 [==============================] - 1s 37ms/step - loss: 0.2306 - accuracy: 0.9081 - val_loss: 0.5490 - val_accuracy: 0.8048\n",
      "Epoch 20/20\n",
      "16/16 [==============================] - 1s 36ms/step - loss: 0.1841 - accuracy: 0.9476 - val_loss: 0.5733 - val_accuracy: 0.8014\n"
     ]
    }
   ],
   "source": [
    "# If the trunk is open for training accuracy is even better\n",
    "# Note how small dataset we are using for training\n",
    "conv_encoder_clone.trainable = True\n",
    "pretrained_clf.compile(loss=\"sparse_categorical_crossentropy\",\n",
    "                       optimizer=keras.optimizers.SGD(lr=0.02),\n",
    "                       metrics=[\"accuracy\"])\n",
    "history = pretrained_clf.fit(X_train_small, y_train_small, epochs=20,\n",
    "                             validation_data=(X_valid, y_valid))"
   ]
  }
 ],
 "metadata": {
  "kernelspec": {
   "display_name": "Python 3",
   "language": "python",
   "name": "python3"
  },
  "language_info": {
   "codemirror_mode": {
    "name": "ipython",
    "version": 3
   },
   "file_extension": ".py",
   "mimetype": "text/x-python",
   "name": "python",
   "nbconvert_exporter": "python",
   "pygments_lexer": "ipython3",
   "version": "3.6.8"
  }
 },
 "nbformat": 4,
 "nbformat_minor": 4
}
