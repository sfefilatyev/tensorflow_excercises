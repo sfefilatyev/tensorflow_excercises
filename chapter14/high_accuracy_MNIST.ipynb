{
 "cells": [
  {
   "cell_type": "markdown",
   "metadata": {},
   "source": [
    "# High Accuracy CNN for MNIST"
   ]
  },
  {
   "cell_type": "markdown",
   "metadata": {},
   "source": [
    "### Build your own CNN from scratch and try to achieve the highest possible accuracy on MNIST."
   ]
  },
  {
   "cell_type": "code",
   "execution_count": null,
   "metadata": {},
   "outputs": [],
   "source": [
    "# Exercise: Build your own CNN from scratch and try to achieve the highest possible accuracy on MNIST."
   ]
  },
  {
   "cell_type": "code",
   "execution_count": 1,
   "metadata": {},
   "outputs": [],
   "source": [
    "# he following model uses 2 convolutional layers, followed by 1 pooling layer, then dropout 25%, \n",
    "# then a dense layer, another dropout layer but with 50% dropout, and finally the output layer. \n",
    "# It reaches about 99.2% accuracy on the test set. This places this model roughly in the top 20% \n",
    "# in the MNIST Kaggle competition (if we ignore the models with an accuracy greater than 99.79% \n",
    "# which were most likely trained on the test set, as explained by Chris Deotte in this post). \n",
    "# Can you do better? To reach 99.5 to 99.7% accuracy on the test set, you need to add image augmentation, \n",
    "# batch norm, use a learning schedule such as 1-cycle, and possibly create an ensemble."
   ]
  },
  {
   "cell_type": "code",
   "execution_count": null,
   "metadata": {},
   "outputs": [],
   "source": []
  }
 ],
 "metadata": {
  "kernelspec": {
   "display_name": "Python 3",
   "language": "python",
   "name": "python3"
  },
  "language_info": {
   "codemirror_mode": {
    "name": "ipython",
    "version": 3
   },
   "file_extension": ".py",
   "mimetype": "text/x-python",
   "name": "python",
   "nbconvert_exporter": "python",
   "pygments_lexer": "ipython3",
   "version": "3.6.8"
  }
 },
 "nbformat": 4,
 "nbformat_minor": 4
}
