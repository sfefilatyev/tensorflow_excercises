{
 "cells": [
  {
   "cell_type": "code",
   "execution_count": 1,
   "metadata": {},
   "outputs": [
    {
     "name": "stderr",
     "output_type": "stream",
     "text": [
      "/home/sfefilatyev/projects/tensorflow_exercises/venv/lib/python3.6/site-packages/tensorflow/python/framework/dtypes.py:516: FutureWarning: Passing (type, 1) or '1type' as a synonym of type is deprecated; in a future version of numpy, it will be understood as (type, (1,)) / '(1,)type'.\n",
      "  _np_qint8 = np.dtype([(\"qint8\", np.int8, 1)])\n",
      "/home/sfefilatyev/projects/tensorflow_exercises/venv/lib/python3.6/site-packages/tensorflow/python/framework/dtypes.py:517: FutureWarning: Passing (type, 1) or '1type' as a synonym of type is deprecated; in a future version of numpy, it will be understood as (type, (1,)) / '(1,)type'.\n",
      "  _np_quint8 = np.dtype([(\"quint8\", np.uint8, 1)])\n",
      "/home/sfefilatyev/projects/tensorflow_exercises/venv/lib/python3.6/site-packages/tensorflow/python/framework/dtypes.py:518: FutureWarning: Passing (type, 1) or '1type' as a synonym of type is deprecated; in a future version of numpy, it will be understood as (type, (1,)) / '(1,)type'.\n",
      "  _np_qint16 = np.dtype([(\"qint16\", np.int16, 1)])\n",
      "/home/sfefilatyev/projects/tensorflow_exercises/venv/lib/python3.6/site-packages/tensorflow/python/framework/dtypes.py:519: FutureWarning: Passing (type, 1) or '1type' as a synonym of type is deprecated; in a future version of numpy, it will be understood as (type, (1,)) / '(1,)type'.\n",
      "  _np_quint16 = np.dtype([(\"quint16\", np.uint16, 1)])\n",
      "/home/sfefilatyev/projects/tensorflow_exercises/venv/lib/python3.6/site-packages/tensorflow/python/framework/dtypes.py:520: FutureWarning: Passing (type, 1) or '1type' as a synonym of type is deprecated; in a future version of numpy, it will be understood as (type, (1,)) / '(1,)type'.\n",
      "  _np_qint32 = np.dtype([(\"qint32\", np.int32, 1)])\n",
      "/home/sfefilatyev/projects/tensorflow_exercises/venv/lib/python3.6/site-packages/tensorflow/python/framework/dtypes.py:525: FutureWarning: Passing (type, 1) or '1type' as a synonym of type is deprecated; in a future version of numpy, it will be understood as (type, (1,)) / '(1,)type'.\n",
      "  np_resource = np.dtype([(\"resource\", np.ubyte, 1)])\n",
      "/home/sfefilatyev/projects/tensorflow_exercises/venv/lib/python3.6/site-packages/tensorboard/compat/tensorflow_stub/dtypes.py:541: FutureWarning: Passing (type, 1) or '1type' as a synonym of type is deprecated; in a future version of numpy, it will be understood as (type, (1,)) / '(1,)type'.\n",
      "  _np_qint8 = np.dtype([(\"qint8\", np.int8, 1)])\n",
      "/home/sfefilatyev/projects/tensorflow_exercises/venv/lib/python3.6/site-packages/tensorboard/compat/tensorflow_stub/dtypes.py:542: FutureWarning: Passing (type, 1) or '1type' as a synonym of type is deprecated; in a future version of numpy, it will be understood as (type, (1,)) / '(1,)type'.\n",
      "  _np_quint8 = np.dtype([(\"quint8\", np.uint8, 1)])\n",
      "/home/sfefilatyev/projects/tensorflow_exercises/venv/lib/python3.6/site-packages/tensorboard/compat/tensorflow_stub/dtypes.py:543: FutureWarning: Passing (type, 1) or '1type' as a synonym of type is deprecated; in a future version of numpy, it will be understood as (type, (1,)) / '(1,)type'.\n",
      "  _np_qint16 = np.dtype([(\"qint16\", np.int16, 1)])\n",
      "/home/sfefilatyev/projects/tensorflow_exercises/venv/lib/python3.6/site-packages/tensorboard/compat/tensorflow_stub/dtypes.py:544: FutureWarning: Passing (type, 1) or '1type' as a synonym of type is deprecated; in a future version of numpy, it will be understood as (type, (1,)) / '(1,)type'.\n",
      "  _np_quint16 = np.dtype([(\"quint16\", np.uint16, 1)])\n",
      "/home/sfefilatyev/projects/tensorflow_exercises/venv/lib/python3.6/site-packages/tensorboard/compat/tensorflow_stub/dtypes.py:545: FutureWarning: Passing (type, 1) or '1type' as a synonym of type is deprecated; in a future version of numpy, it will be understood as (type, (1,)) / '(1,)type'.\n",
      "  _np_qint32 = np.dtype([(\"qint32\", np.int32, 1)])\n",
      "/home/sfefilatyev/projects/tensorflow_exercises/venv/lib/python3.6/site-packages/tensorboard/compat/tensorflow_stub/dtypes.py:550: FutureWarning: Passing (type, 1) or '1type' as a synonym of type is deprecated; in a future version of numpy, it will be understood as (type, (1,)) / '(1,)type'.\n",
      "  np_resource = np.dtype([(\"resource\", np.ubyte, 1)])\n"
     ]
    },
    {
     "name": "stdout",
     "output_type": "stream",
     "text": [
      "(60000, 28, 28)\n",
      "uint8\n",
      "(60000,)\n",
      "uint8\n",
      "(10000, 28, 28)\n",
      "uint8\n",
      "['Coat', 'T-shirt/top', 'Sneaker', 'Ankle boot', 'Ankle boot', 'Ankle boot', 'Coat', 'Coat', 'Dress', 'Coat']\n"
     ]
    }
   ],
   "source": [
    "from tensorflow import keras\n",
    "fashion_mnist = keras.datasets.fashion_mnist\n",
    "(X_train_full, y_train_full), (X_test, y_test) = fashion_mnist.load_data()\n",
    "X_valid, X_train = X_train_full[:5000] / 255.0, X_train_full[5000:] / 255.0\n",
    "y_valid, y_train = y_train_full[:5000], y_train_full[5000:]\n",
    "\n",
    "print(X_train_full.shape)\n",
    "print(X_train_full.dtype)\n",
    "print(y_train_full.shape)\n",
    "print(y_train_full.dtype)\n",
    "print(X_test.shape)\n",
    "print(X_test.dtype)\n",
    "\n",
    "class_names = [\"T-shirt/top\", \"Trouser\", \"Pullover\", \"Dress\", \"Coat\",\n",
    "               \"Sandal\", \"Shirt\", \"Sneaker\", \"Bag\", \"Ankle boot\"]\n",
    "print([class_names[x] for x in y_train[:10]])"
   ]
  },
  {
   "cell_type": "code",
   "execution_count": 2,
   "metadata": {},
   "outputs": [],
   "source": [
    "model = keras.models.Sequential([\n",
    "    keras.layers.Flatten(input_shape=[28,28]),\n",
    "    keras.layers.BatchNormalization(),\n",
    "    keras.layers.Dense(300, activation=\"elu\", kernel_initializer=\"he_normal\"),\n",
    "    keras.layers.BatchNormalization(),\n",
    "    keras.layers.Dense(100, activation=\"elu\", kernel_initializer=\"he_normal\"),\n",
    "    keras.layers.BatchNormalization(),\n",
    "    keras.layers.Dense(10, activation=\"softmax\")\n",
    "])"
   ]
  },
  {
   "cell_type": "code",
   "execution_count": 3,
   "metadata": {},
   "outputs": [
    {
     "name": "stdout",
     "output_type": "stream",
     "text": [
      "Model: \"sequential\"\n",
      "_________________________________________________________________\n",
      "Layer (type)                 Output Shape              Param #   \n",
      "=================================================================\n",
      "flatten (Flatten)            (None, 784)               0         \n",
      "_________________________________________________________________\n",
      "batch_normalization (BatchNo (None, 784)               3136      \n",
      "_________________________________________________________________\n",
      "dense (Dense)                (None, 300)               235500    \n",
      "_________________________________________________________________\n",
      "batch_normalization_1 (Batch (None, 300)               1200      \n",
      "_________________________________________________________________\n",
      "dense_1 (Dense)              (None, 100)               30100     \n",
      "_________________________________________________________________\n",
      "batch_normalization_2 (Batch (None, 100)               400       \n",
      "_________________________________________________________________\n",
      "dense_2 (Dense)              (None, 10)                1010      \n",
      "=================================================================\n",
      "Total params: 271,346\n",
      "Trainable params: 268,978\n",
      "Non-trainable params: 2,368\n",
      "_________________________________________________________________\n"
     ]
    }
   ],
   "source": [
    "model.summary()"
   ]
  },
  {
   "cell_type": "code",
   "execution_count": 4,
   "metadata": {},
   "outputs": [],
   "source": [
    "model.compile(loss=\"sparse_categorical_crossentropy\", optimizer=\"sgd\", metrics=[\"accuracy\"])"
   ]
  },
  {
   "cell_type": "code",
   "execution_count": 5,
   "metadata": {},
   "outputs": [
    {
     "name": "stdout",
     "output_type": "stream",
     "text": [
      "WARNING:tensorflow:From /home/sfefilatyev/projects/tensorflow_exercises/venv/lib/python3.6/site-packages/tensorflow/python/ops/math_grad.py:1250: add_dispatch_support.<locals>.wrapper (from tensorflow.python.ops.array_ops) is deprecated and will be removed in a future version.\n",
      "Instructions for updating:\n",
      "Use tf.where in 2.0, which has the same broadcast rule as np.where\n",
      "Train on 55000 samples, validate on 5000 samples\n",
      "Epoch 1/30\n",
      "55000/55000 [==============================] - 6s 110us/sample - loss: 0.5548 - accuracy: 0.8062 - val_loss: 0.4057 - val_accuracy: 0.8620\n",
      "Epoch 2/30\n",
      "55000/55000 [==============================] - 4s 77us/sample - loss: 0.4273 - accuracy: 0.8472 - val_loss: 0.3812 - val_accuracy: 0.8656\n",
      "Epoch 3/30\n",
      "55000/55000 [==============================] - 4s 80us/sample - loss: 0.3877 - accuracy: 0.8614 - val_loss: 0.3568 - val_accuracy: 0.8720\n",
      "Epoch 4/30\n",
      "55000/55000 [==============================] - 4s 72us/sample - loss: 0.3640 - accuracy: 0.8707 - val_loss: 0.3422 - val_accuracy: 0.8770\n",
      "Epoch 5/30\n",
      "55000/55000 [==============================] - 4s 80us/sample - loss: 0.3444 - accuracy: 0.8762 - val_loss: 0.3358 - val_accuracy: 0.8792\n",
      "Epoch 6/30\n",
      "55000/55000 [==============================] - 4s 78us/sample - loss: 0.3317 - accuracy: 0.8792 - val_loss: 0.3358 - val_accuracy: 0.8798\n",
      "Epoch 7/30\n",
      "55000/55000 [==============================] - 4s 72us/sample - loss: 0.3163 - accuracy: 0.8853 - val_loss: 0.3210 - val_accuracy: 0.8870\n",
      "Epoch 8/30\n",
      "55000/55000 [==============================] - 4s 80us/sample - loss: 0.3038 - accuracy: 0.8907 - val_loss: 0.3184 - val_accuracy: 0.8872\n",
      "Epoch 9/30\n",
      "55000/55000 [==============================] - 4s 75us/sample - loss: 0.2953 - accuracy: 0.8931 - val_loss: 0.3134 - val_accuracy: 0.8898\n",
      "Epoch 10/30\n",
      "55000/55000 [==============================] - 5s 83us/sample - loss: 0.2862 - accuracy: 0.8963 - val_loss: 0.3151 - val_accuracy: 0.8862\n",
      "Epoch 11/30\n",
      "55000/55000 [==============================] - 4s 77us/sample - loss: 0.2784 - accuracy: 0.8994 - val_loss: 0.3210 - val_accuracy: 0.8850\n",
      "Epoch 12/30\n",
      "55000/55000 [==============================] - 4s 79us/sample - loss: 0.2688 - accuracy: 0.9036 - val_loss: 0.3076 - val_accuracy: 0.8888\n",
      "Epoch 13/30\n",
      "55000/55000 [==============================] - 4s 74us/sample - loss: 0.2620 - accuracy: 0.9042 - val_loss: 0.3090 - val_accuracy: 0.8904\n",
      "Epoch 14/30\n",
      "55000/55000 [==============================] - 4s 75us/sample - loss: 0.2558 - accuracy: 0.9071 - val_loss: 0.3035 - val_accuracy: 0.8910\n",
      "Epoch 15/30\n",
      "55000/55000 [==============================] - 4s 76us/sample - loss: 0.2488 - accuracy: 0.9103 - val_loss: 0.3054 - val_accuracy: 0.8932\n",
      "Epoch 16/30\n",
      "55000/55000 [==============================] - 4s 75us/sample - loss: 0.2421 - accuracy: 0.9111 - val_loss: 0.3154 - val_accuracy: 0.8872\n",
      "Epoch 17/30\n",
      "55000/55000 [==============================] - 4s 73us/sample - loss: 0.2366 - accuracy: 0.9155 - val_loss: 0.3045 - val_accuracy: 0.8888\n",
      "Epoch 18/30\n",
      "55000/55000 [==============================] - 4s 76us/sample - loss: 0.2311 - accuracy: 0.9158 - val_loss: 0.3033 - val_accuracy: 0.8928\n",
      "Epoch 19/30\n",
      "55000/55000 [==============================] - 4s 80us/sample - loss: 0.2266 - accuracy: 0.9174 - val_loss: 0.3124 - val_accuracy: 0.8920\n",
      "Epoch 20/30\n",
      "55000/55000 [==============================] - 4s 77us/sample - loss: 0.2218 - accuracy: 0.9192 - val_loss: 0.3055 - val_accuracy: 0.8912\n",
      "Epoch 21/30\n",
      "55000/55000 [==============================] - 4s 78us/sample - loss: 0.2144 - accuracy: 0.9220 - val_loss: 0.3126 - val_accuracy: 0.8912\n",
      "Epoch 22/30\n",
      "55000/55000 [==============================] - 4s 77us/sample - loss: 0.2110 - accuracy: 0.9229 - val_loss: 0.3040 - val_accuracy: 0.8934\n",
      "Epoch 23/30\n",
      "55000/55000 [==============================] - 4s 75us/sample - loss: 0.2068 - accuracy: 0.9239 - val_loss: 0.3141 - val_accuracy: 0.8888\n",
      "Epoch 24/30\n",
      "55000/55000 [==============================] - 4s 76us/sample - loss: 0.2022 - accuracy: 0.9257 - val_loss: 0.3118 - val_accuracy: 0.8928\n",
      "Epoch 25/30\n",
      "55000/55000 [==============================] - 4s 78us/sample - loss: 0.1959 - accuracy: 0.9281 - val_loss: 0.3183 - val_accuracy: 0.8884\n",
      "Epoch 26/30\n",
      "55000/55000 [==============================] - 4s 76us/sample - loss: 0.1915 - accuracy: 0.9302 - val_loss: 0.3210 - val_accuracy: 0.8916\n",
      "Epoch 27/30\n",
      "55000/55000 [==============================] - 4s 77us/sample - loss: 0.1898 - accuracy: 0.9299 - val_loss: 0.3083 - val_accuracy: 0.8916\n",
      "Epoch 28/30\n",
      "55000/55000 [==============================] - 4s 75us/sample - loss: 0.1864 - accuracy: 0.9326 - val_loss: 0.3191 - val_accuracy: 0.8940\n",
      "Epoch 29/30\n",
      "55000/55000 [==============================] - 4s 79us/sample - loss: 0.1824 - accuracy: 0.9341 - val_loss: 0.3167 - val_accuracy: 0.8938\n",
      "Epoch 30/30\n",
      "55000/55000 [==============================] - 4s 78us/sample - loss: 0.1769 - accuracy: 0.9360 - val_loss: 0.3182 - val_accuracy: 0.8924\n"
     ]
    }
   ],
   "source": [
    "history = model.fit(X_train, y_train, epochs=30, validation_data=(X_valid, y_valid))"
   ]
  },
  {
   "cell_type": "code",
   "execution_count": 6,
   "metadata": {},
   "outputs": [
    {
     "name": "stdout",
     "output_type": "stream",
     "text": [
      "10000/10000 [==============================] - 0s 37us/sample - loss: 12.1114 - accuracy: 0.2451\n"
     ]
    },
    {
     "data": {
      "text/plain": [
       "[12.111417990112304, 0.2451]"
      ]
     },
     "execution_count": 6,
     "metadata": {},
     "output_type": "execute_result"
    }
   ],
   "source": [
    "model.evaluate(X_test, y_test)"
   ]
  },
  {
   "cell_type": "code",
   "execution_count": 7,
   "metadata": {},
   "outputs": [
    {
     "data": {
      "text/plain": [
       "array([[0., 0., 0., 0., 0., 1., 0., 0., 0., 0.],\n",
       "       [0., 0., 0., 0., 0., 0., 0., 1., 0., 0.],\n",
       "       [0., 0., 0., 0., 0., 1., 0., 0., 0., 0.]], dtype=float32)"
      ]
     },
     "execution_count": 7,
     "metadata": {},
     "output_type": "execute_result"
    }
   ],
   "source": [
    "X_new = X_test[:3]\n",
    "y_proba = model.predict(X_new)\n",
    "y_proba.round(2)"
   ]
  }
 ],
 "metadata": {
  "kernelspec": {
   "display_name": "Python 3",
   "language": "python",
   "name": "python3"
  },
  "language_info": {
   "codemirror_mode": {
    "name": "ipython",
    "version": 3
   },
   "file_extension": ".py",
   "mimetype": "text/x-python",
   "name": "python",
   "nbconvert_exporter": "python",
   "pygments_lexer": "ipython3",
   "version": "3.6.8"
  }
 },
 "nbformat": 4,
 "nbformat_minor": 4
}
