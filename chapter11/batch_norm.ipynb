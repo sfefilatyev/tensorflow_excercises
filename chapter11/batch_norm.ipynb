{
 "cells": [
  {
   "cell_type": "code",
   "execution_count": 5,
   "metadata": {},
   "outputs": [
    {
     "name": "stdout",
     "output_type": "stream",
     "text": [
      "(60000, 28, 28)\n",
      "uint8\n",
      "(60000,)\n",
      "uint8\n",
      "(10000, 28, 28)\n",
      "uint8\n",
      "['Coat', 'T-shirt/top', 'Sneaker', 'Ankle boot', 'Ankle boot', 'Ankle boot', 'Coat', 'Coat', 'Dress', 'Coat']\n"
     ]
    }
   ],
   "source": [
    "from tensorflow import keras\n",
    "fashion_mnist = keras.datasets.fashion_mnist\n",
    "(X_train_full, y_train_full), (X_test, y_test) = fashion_mnist.load_data()\n",
    "X_valid, X_train = X_train_full[:5000] / 255.0, X_train_full[5000:] / 255.0\n",
    "y_valid, y_train = y_train_full[:5000], y_train_full[5000:]\n",
    "\n",
    "print(X_train_full.shape)\n",
    "print(X_train_full.dtype)\n",
    "print(y_train_full.shape)\n",
    "print(y_train_full.dtype)\n",
    "print(X_test.shape)\n",
    "print(X_test.dtype)\n",
    "\n",
    "class_names = [\"T-shirt/top\", \"Trouser\", \"Pullover\", \"Dress\", \"Coat\",\n",
    "               \"Sandal\", \"Shirt\", \"Sneaker\", \"Bag\", \"Ankle boot\"]\n",
    "print([class_names[x] for x in y_train[:10]])"
   ]
  },
  {
   "cell_type": "code",
   "execution_count": 6,
   "metadata": {},
   "outputs": [],
   "source": [
    "model = keras.models.Sequential([\n",
    "    keras.layers.Flatten(input_shape=[28,28]),\n",
    "    keras.layers.BatchNormalization(),\n",
    "    keras.layers.Dense(300, activation=\"elu\", kernel_initializer=\"he_normal\"),\n",
    "    keras.layers.BatchNormalization(),\n",
    "    keras.layers.Dense(100, activation=\"elu\", kernel_initializer=\"he_normal\"),\n",
    "    keras.layers.BatchNormalization(),\n",
    "    keras.layers.Dense(10, activation=\"softmax\")\n",
    "])"
   ]
  },
  {
   "cell_type": "code",
   "execution_count": 7,
   "metadata": {},
   "outputs": [
    {
     "name": "stdout",
     "output_type": "stream",
     "text": [
      "Model: \"sequential\"\n",
      "_________________________________________________________________\n",
      "Layer (type)                 Output Shape              Param #   \n",
      "=================================================================\n",
      "flatten_1 (Flatten)          (None, 784)               0         \n",
      "_________________________________________________________________\n",
      "batch_normalization_3 (Batch (None, 784)               3136      \n",
      "_________________________________________________________________\n",
      "dense_2 (Dense)              (None, 300)               235500    \n",
      "_________________________________________________________________\n",
      "batch_normalization_4 (Batch (None, 300)               1200      \n",
      "_________________________________________________________________\n",
      "dense_3 (Dense)              (None, 100)               30100     \n",
      "_________________________________________________________________\n",
      "batch_normalization_5 (Batch (None, 100)               400       \n",
      "_________________________________________________________________\n",
      "dense_4 (Dense)              (None, 10)                1010      \n",
      "=================================================================\n",
      "Total params: 271,346\n",
      "Trainable params: 268,978\n",
      "Non-trainable params: 2,368\n",
      "_________________________________________________________________\n"
     ]
    }
   ],
   "source": [
    "model.summary()"
   ]
  },
  {
   "cell_type": "code",
   "execution_count": 8,
   "metadata": {},
   "outputs": [],
   "source": [
    "model.compile(loss=\"sparse_categorical_crossentropy\", optimizer=\"sgd\", metrics=[\"accuracy\"])"
   ]
  },
  {
   "cell_type": "code",
   "execution_count": 9,
   "metadata": {},
   "outputs": [
    {
     "name": "stdout",
     "output_type": "stream",
     "text": [
      "WARNING:tensorflow:From /home/sfefilatyev/projects/tensorflow_exercises/venv/lib/python3.6/site-packages/tensorflow/python/ops/math_grad.py:1250: add_dispatch_support.<locals>.wrapper (from tensorflow.python.ops.array_ops) is deprecated and will be removed in a future version.\n",
      "Instructions for updating:\n",
      "Use tf.where in 2.0, which has the same broadcast rule as np.where\n",
      "Train on 55000 samples, validate on 5000 samples\n",
      "Epoch 1/30\n",
      "55000/55000 [==============================] - 6s 105us/sample - loss: 0.5528 - accuracy: 0.8067 - val_loss: 0.4100 - val_accuracy: 0.8584\n",
      "Epoch 2/30\n",
      "55000/55000 [==============================] - 4s 71us/sample - loss: 0.4238 - accuracy: 0.8495 - val_loss: 0.3762 - val_accuracy: 0.8690\n",
      "Epoch 3/30\n",
      "55000/55000 [==============================] - 4s 71us/sample - loss: 0.3895 - accuracy: 0.8611 - val_loss: 0.3541 - val_accuracy: 0.8704\n",
      "Epoch 4/30\n",
      "55000/55000 [==============================] - 4s 72us/sample - loss: 0.3623 - accuracy: 0.8697 - val_loss: 0.3466 - val_accuracy: 0.8778\n",
      "Epoch 5/30\n",
      "55000/55000 [==============================] - 4s 78us/sample - loss: 0.3466 - accuracy: 0.8758 - val_loss: 0.3361 - val_accuracy: 0.8816\n",
      "Epoch 6/30\n",
      "55000/55000 [==============================] - 4s 74us/sample - loss: 0.3286 - accuracy: 0.8830 - val_loss: 0.3283 - val_accuracy: 0.8844\n",
      "Epoch 7/30\n",
      "55000/55000 [==============================] - 4s 70us/sample - loss: 0.3164 - accuracy: 0.8865 - val_loss: 0.3284 - val_accuracy: 0.8862\n",
      "Epoch 8/30\n",
      "55000/55000 [==============================] - 4s 72us/sample - loss: 0.3043 - accuracy: 0.8909 - val_loss: 0.3204 - val_accuracy: 0.8886\n",
      "Epoch 9/30\n",
      "55000/55000 [==============================] - 4s 76us/sample - loss: 0.2960 - accuracy: 0.8924 - val_loss: 0.3191 - val_accuracy: 0.8892\n",
      "Epoch 10/30\n",
      "55000/55000 [==============================] - 4s 74us/sample - loss: 0.2877 - accuracy: 0.8951 - val_loss: 0.3242 - val_accuracy: 0.8862\n",
      "Epoch 11/30\n",
      "55000/55000 [==============================] - 4s 75us/sample - loss: 0.2784 - accuracy: 0.8993 - val_loss: 0.3176 - val_accuracy: 0.8818\n",
      "Epoch 12/30\n",
      "55000/55000 [==============================] - 4s 77us/sample - loss: 0.2707 - accuracy: 0.9024 - val_loss: 0.3098 - val_accuracy: 0.8904\n",
      "Epoch 13/30\n",
      "55000/55000 [==============================] - 4s 77us/sample - loss: 0.2635 - accuracy: 0.9042 - val_loss: 0.3150 - val_accuracy: 0.8888\n",
      "Epoch 14/30\n",
      "55000/55000 [==============================] - 4s 73us/sample - loss: 0.2552 - accuracy: 0.9062 - val_loss: 0.3178 - val_accuracy: 0.8876\n",
      "Epoch 15/30\n",
      "55000/55000 [==============================] - 4s 72us/sample - loss: 0.2482 - accuracy: 0.9092 - val_loss: 0.3225 - val_accuracy: 0.8872\n",
      "Epoch 16/30\n",
      "55000/55000 [==============================] - 4s 74us/sample - loss: 0.2412 - accuracy: 0.9122 - val_loss: 0.3142 - val_accuracy: 0.8910\n",
      "Epoch 17/30\n",
      "55000/55000 [==============================] - 4s 74us/sample - loss: 0.2377 - accuracy: 0.9137 - val_loss: 0.3190 - val_accuracy: 0.8912\n",
      "Epoch 18/30\n",
      "55000/55000 [==============================] - 4s 72us/sample - loss: 0.2316 - accuracy: 0.9152 - val_loss: 0.3160 - val_accuracy: 0.8934\n",
      "Epoch 19/30\n",
      "55000/55000 [==============================] - 4s 74us/sample - loss: 0.2274 - accuracy: 0.9161 - val_loss: 0.3145 - val_accuracy: 0.8940\n",
      "Epoch 20/30\n",
      "55000/55000 [==============================] - 4s 74us/sample - loss: 0.2209 - accuracy: 0.9207 - val_loss: 0.3150 - val_accuracy: 0.8920\n",
      "Epoch 21/30\n",
      "55000/55000 [==============================] - 4s 74us/sample - loss: 0.2154 - accuracy: 0.9225 - val_loss: 0.3185 - val_accuracy: 0.8922\n",
      "Epoch 22/30\n",
      "55000/55000 [==============================] - 4s 76us/sample - loss: 0.2119 - accuracy: 0.9224 - val_loss: 0.3160 - val_accuracy: 0.8910\n",
      "Epoch 23/30\n",
      "55000/55000 [==============================] - 4s 76us/sample - loss: 0.2055 - accuracy: 0.9248 - val_loss: 0.3166 - val_accuracy: 0.8922\n",
      "Epoch 24/30\n",
      "55000/55000 [==============================] - 4s 74us/sample - loss: 0.2022 - accuracy: 0.9274 - val_loss: 0.3173 - val_accuracy: 0.8908\n",
      "Epoch 25/30\n",
      "55000/55000 [==============================] - 4s 72us/sample - loss: 0.1963 - accuracy: 0.9289 - val_loss: 0.3244 - val_accuracy: 0.8908\n",
      "Epoch 26/30\n",
      "55000/55000 [==============================] - 4s 73us/sample - loss: 0.1934 - accuracy: 0.9289 - val_loss: 0.3176 - val_accuracy: 0.8946\n",
      "Epoch 27/30\n",
      "55000/55000 [==============================] - 4s 74us/sample - loss: 0.1902 - accuracy: 0.9311 - val_loss: 0.3176 - val_accuracy: 0.8932\n",
      "Epoch 28/30\n",
      "55000/55000 [==============================] - 4s 82us/sample - loss: 0.1844 - accuracy: 0.9327 - val_loss: 0.3186 - val_accuracy: 0.8930\n",
      "Epoch 29/30\n",
      "55000/55000 [==============================] - 5s 83us/sample - loss: 0.1814 - accuracy: 0.9339 - val_loss: 0.3233 - val_accuracy: 0.8928\n",
      "Epoch 30/30\n",
      "55000/55000 [==============================] - 5s 83us/sample - loss: 0.1771 - accuracy: 0.9346 - val_loss: 0.3334 - val_accuracy: 0.8908\n"
     ]
    }
   ],
   "source": [
    "history = model.fit(X_train, y_train, epochs=30, validation_data=(X_valid, y_valid))"
   ]
  }
 ],
 "metadata": {
  "kernelspec": {
   "display_name": "Python 3",
   "language": "python",
   "name": "python3"
  },
  "language_info": {
   "codemirror_mode": {
    "name": "ipython",
    "version": 3
   },
   "file_extension": ".py",
   "mimetype": "text/x-python",
   "name": "python",
   "nbconvert_exporter": "python",
   "pygments_lexer": "ipython3",
   "version": "3.6.8"
  }
 },
 "nbformat": 4,
 "nbformat_minor": 4
}
