{
 "cells": [
  {
   "cell_type": "code",
   "execution_count": 1,
   "metadata": {},
   "outputs": [
    {
     "name": "stderr",
     "output_type": "stream",
     "text": [
      "/home/sfefilatyev/projects/tensorflow_exercises/venv/lib/python3.6/site-packages/tensorflow/python/framework/dtypes.py:516: FutureWarning: Passing (type, 1) or '1type' as a synonym of type is deprecated; in a future version of numpy, it will be understood as (type, (1,)) / '(1,)type'.\n",
      "  _np_qint8 = np.dtype([(\"qint8\", np.int8, 1)])\n",
      "/home/sfefilatyev/projects/tensorflow_exercises/venv/lib/python3.6/site-packages/tensorflow/python/framework/dtypes.py:517: FutureWarning: Passing (type, 1) or '1type' as a synonym of type is deprecated; in a future version of numpy, it will be understood as (type, (1,)) / '(1,)type'.\n",
      "  _np_quint8 = np.dtype([(\"quint8\", np.uint8, 1)])\n",
      "/home/sfefilatyev/projects/tensorflow_exercises/venv/lib/python3.6/site-packages/tensorflow/python/framework/dtypes.py:518: FutureWarning: Passing (type, 1) or '1type' as a synonym of type is deprecated; in a future version of numpy, it will be understood as (type, (1,)) / '(1,)type'.\n",
      "  _np_qint16 = np.dtype([(\"qint16\", np.int16, 1)])\n",
      "/home/sfefilatyev/projects/tensorflow_exercises/venv/lib/python3.6/site-packages/tensorflow/python/framework/dtypes.py:519: FutureWarning: Passing (type, 1) or '1type' as a synonym of type is deprecated; in a future version of numpy, it will be understood as (type, (1,)) / '(1,)type'.\n",
      "  _np_quint16 = np.dtype([(\"quint16\", np.uint16, 1)])\n",
      "/home/sfefilatyev/projects/tensorflow_exercises/venv/lib/python3.6/site-packages/tensorflow/python/framework/dtypes.py:520: FutureWarning: Passing (type, 1) or '1type' as a synonym of type is deprecated; in a future version of numpy, it will be understood as (type, (1,)) / '(1,)type'.\n",
      "  _np_qint32 = np.dtype([(\"qint32\", np.int32, 1)])\n",
      "/home/sfefilatyev/projects/tensorflow_exercises/venv/lib/python3.6/site-packages/tensorflow/python/framework/dtypes.py:525: FutureWarning: Passing (type, 1) or '1type' as a synonym of type is deprecated; in a future version of numpy, it will be understood as (type, (1,)) / '(1,)type'.\n",
      "  np_resource = np.dtype([(\"resource\", np.ubyte, 1)])\n",
      "/home/sfefilatyev/projects/tensorflow_exercises/venv/lib/python3.6/site-packages/tensorboard/compat/tensorflow_stub/dtypes.py:541: FutureWarning: Passing (type, 1) or '1type' as a synonym of type is deprecated; in a future version of numpy, it will be understood as (type, (1,)) / '(1,)type'.\n",
      "  _np_qint8 = np.dtype([(\"qint8\", np.int8, 1)])\n",
      "/home/sfefilatyev/projects/tensorflow_exercises/venv/lib/python3.6/site-packages/tensorboard/compat/tensorflow_stub/dtypes.py:542: FutureWarning: Passing (type, 1) or '1type' as a synonym of type is deprecated; in a future version of numpy, it will be understood as (type, (1,)) / '(1,)type'.\n",
      "  _np_quint8 = np.dtype([(\"quint8\", np.uint8, 1)])\n",
      "/home/sfefilatyev/projects/tensorflow_exercises/venv/lib/python3.6/site-packages/tensorboard/compat/tensorflow_stub/dtypes.py:543: FutureWarning: Passing (type, 1) or '1type' as a synonym of type is deprecated; in a future version of numpy, it will be understood as (type, (1,)) / '(1,)type'.\n",
      "  _np_qint16 = np.dtype([(\"qint16\", np.int16, 1)])\n",
      "/home/sfefilatyev/projects/tensorflow_exercises/venv/lib/python3.6/site-packages/tensorboard/compat/tensorflow_stub/dtypes.py:544: FutureWarning: Passing (type, 1) or '1type' as a synonym of type is deprecated; in a future version of numpy, it will be understood as (type, (1,)) / '(1,)type'.\n",
      "  _np_quint16 = np.dtype([(\"quint16\", np.uint16, 1)])\n",
      "/home/sfefilatyev/projects/tensorflow_exercises/venv/lib/python3.6/site-packages/tensorboard/compat/tensorflow_stub/dtypes.py:545: FutureWarning: Passing (type, 1) or '1type' as a synonym of type is deprecated; in a future version of numpy, it will be understood as (type, (1,)) / '(1,)type'.\n",
      "  _np_qint32 = np.dtype([(\"qint32\", np.int32, 1)])\n",
      "/home/sfefilatyev/projects/tensorflow_exercises/venv/lib/python3.6/site-packages/tensorboard/compat/tensorflow_stub/dtypes.py:550: FutureWarning: Passing (type, 1) or '1type' as a synonym of type is deprecated; in a future version of numpy, it will be understood as (type, (1,)) / '(1,)type'.\n",
      "  np_resource = np.dtype([(\"resource\", np.ubyte, 1)])\n"
     ]
    },
    {
     "name": "stdout",
     "output_type": "stream",
     "text": [
      "(60000, 28, 28)\n",
      "uint8\n",
      "(60000,)\n",
      "uint8\n",
      "(10000, 28, 28)\n",
      "uint8\n",
      "['Coat', 'T-shirt/top', 'Sneaker', 'Ankle boot', 'Ankle boot', 'Ankle boot', 'Coat', 'Coat', 'Dress', 'Coat']\n"
     ]
    }
   ],
   "source": [
    "from tensorflow import keras\n",
    "fashion_mnist = keras.datasets.fashion_mnist\n",
    "(X_train_full, y_train_full), (X_test, y_test) = fashion_mnist.load_data()\n",
    "X_valid, X_train = X_train_full[:5000] / 255.0, X_train_full[5000:] / 255.0\n",
    "y_valid, y_train = y_train_full[:5000], y_train_full[5000:]\n",
    "\n",
    "print(X_train_full.shape)\n",
    "print(X_train_full.dtype)\n",
    "print(y_train_full.shape)\n",
    "print(y_train_full.dtype)\n",
    "print(X_test.shape)\n",
    "print(X_test.dtype)\n",
    "\n",
    "class_names = [\"T-shirt/top\", \"Trouser\", \"Pullover\", \"Dress\", \"Coat\",\n",
    "               \"Sandal\", \"Shirt\", \"Sneaker\", \"Bag\", \"Ankle boot\"]\n",
    "print([class_names[x] for x in y_train[:10]])"
   ]
  },
  {
   "cell_type": "code",
   "execution_count": 3,
   "metadata": {},
   "outputs": [],
   "source": [
    "model = keras.models.Sequential([\n",
    "    keras.layers.Flatten(input_shape=[28,28]),\n",
    "    keras.layers.Dropout(rate=0.2),\n",
    "    keras.layers.Dense(300, activation=\"elu\", kernel_initializer=\"he_normal\"),\n",
    "    keras.layers.Dropout(rate=0.2),\n",
    "    keras.layers.Dense(100, activation=\"elu\", kernel_initializer=\"he_normal\"),\n",
    "    keras.layers.Dropout(rate=0.2),\n",
    "    keras.layers.Dense(10, activation=\"softmax\")\n",
    "])"
   ]
  },
  {
   "cell_type": "code",
   "execution_count": 4,
   "metadata": {},
   "outputs": [
    {
     "name": "stdout",
     "output_type": "stream",
     "text": [
      "Model: \"sequential_1\"\n",
      "_________________________________________________________________\n",
      "Layer (type)                 Output Shape              Param #   \n",
      "=================================================================\n",
      "flatten_1 (Flatten)          (None, 784)               0         \n",
      "_________________________________________________________________\n",
      "dropout_3 (Dropout)          (None, 784)               0         \n",
      "_________________________________________________________________\n",
      "dense_3 (Dense)              (None, 300)               235500    \n",
      "_________________________________________________________________\n",
      "dropout_4 (Dropout)          (None, 300)               0         \n",
      "_________________________________________________________________\n",
      "dense_4 (Dense)              (None, 100)               30100     \n",
      "_________________________________________________________________\n",
      "dropout_5 (Dropout)          (None, 100)               0         \n",
      "_________________________________________________________________\n",
      "dense_5 (Dense)              (None, 10)                1010      \n",
      "=================================================================\n",
      "Total params: 266,610\n",
      "Trainable params: 266,610\n",
      "Non-trainable params: 0\n",
      "_________________________________________________________________\n"
     ]
    }
   ],
   "source": [
    "model.summary()"
   ]
  },
  {
   "cell_type": "code",
   "execution_count": 7,
   "metadata": {},
   "outputs": [],
   "source": [
    "model.compile(loss=\"sparse_categorical_crossentropy\", optimizer=\"sgd\", metrics=[\"accuracy\"])"
   ]
  },
  {
   "cell_type": "code",
   "execution_count": 8,
   "metadata": {},
   "outputs": [
    {
     "name": "stdout",
     "output_type": "stream",
     "text": [
      "WARNING:tensorflow:From /home/sfefilatyev/projects/tensorflow_exercises/venv/lib/python3.6/site-packages/tensorflow/python/ops/math_grad.py:1250: add_dispatch_support.<locals>.wrapper (from tensorflow.python.ops.array_ops) is deprecated and will be removed in a future version.\n",
      "Instructions for updating:\n",
      "Use tf.where in 2.0, which has the same broadcast rule as np.where\n",
      "Train on 55000 samples, validate on 5000 samples\n",
      "Epoch 1/30\n",
      "55000/55000 [==============================] - 5s 83us/sample - loss: 0.7739 - accuracy: 0.7246 - val_loss: 0.5098 - val_accuracy: 0.8250\n",
      "Epoch 2/30\n",
      "55000/55000 [==============================] - 3s 57us/sample - loss: 0.5780 - accuracy: 0.7920 - val_loss: 0.4666 - val_accuracy: 0.8368\n",
      "Epoch 3/30\n",
      "55000/55000 [==============================] - 3s 57us/sample - loss: 0.5406 - accuracy: 0.8054 - val_loss: 0.4412 - val_accuracy: 0.8446\n",
      "Epoch 4/30\n",
      "55000/55000 [==============================] - 3s 59us/sample - loss: 0.5131 - accuracy: 0.8152 - val_loss: 0.4241 - val_accuracy: 0.8488\n",
      "Epoch 5/30\n",
      "55000/55000 [==============================] - 3s 57us/sample - loss: 0.4958 - accuracy: 0.8217 - val_loss: 0.4120 - val_accuracy: 0.8562\n",
      "Epoch 6/30\n",
      "55000/55000 [==============================] - 3s 57us/sample - loss: 0.4858 - accuracy: 0.8240 - val_loss: 0.4015 - val_accuracy: 0.8616\n",
      "Epoch 7/30\n",
      "55000/55000 [==============================] - 3s 57us/sample - loss: 0.4784 - accuracy: 0.8241 - val_loss: 0.3945 - val_accuracy: 0.8590\n",
      "Epoch 8/30\n",
      "55000/55000 [==============================] - 3s 57us/sample - loss: 0.4680 - accuracy: 0.8307 - val_loss: 0.3898 - val_accuracy: 0.8626\n",
      "Epoch 9/30\n",
      "55000/55000 [==============================] - 3s 60us/sample - loss: 0.4601 - accuracy: 0.8326 - val_loss: 0.3835 - val_accuracy: 0.8644\n",
      "Epoch 10/30\n",
      "55000/55000 [==============================] - 3s 60us/sample - loss: 0.4563 - accuracy: 0.8337 - val_loss: 0.3817 - val_accuracy: 0.8654\n",
      "Epoch 11/30\n",
      "55000/55000 [==============================] - 3s 59us/sample - loss: 0.4498 - accuracy: 0.8357 - val_loss: 0.3818 - val_accuracy: 0.8632\n",
      "Epoch 12/30\n",
      "55000/55000 [==============================] - 3s 59us/sample - loss: 0.4435 - accuracy: 0.8386 - val_loss: 0.3762 - val_accuracy: 0.8660\n",
      "Epoch 13/30\n",
      "55000/55000 [==============================] - 3s 58us/sample - loss: 0.4392 - accuracy: 0.8396 - val_loss: 0.3715 - val_accuracy: 0.8688\n",
      "Epoch 14/30\n",
      "55000/55000 [==============================] - 3s 58us/sample - loss: 0.4345 - accuracy: 0.8417 - val_loss: 0.3702 - val_accuracy: 0.8684\n",
      "Epoch 15/30\n",
      "55000/55000 [==============================] - 3s 58us/sample - loss: 0.4356 - accuracy: 0.8394 - val_loss: 0.3635 - val_accuracy: 0.8736\n",
      "Epoch 16/30\n",
      "55000/55000 [==============================] - 3s 61us/sample - loss: 0.4304 - accuracy: 0.8412 - val_loss: 0.3644 - val_accuracy: 0.8718\n",
      "Epoch 17/30\n",
      "55000/55000 [==============================] - 3s 58us/sample - loss: 0.4269 - accuracy: 0.8431 - val_loss: 0.3560 - val_accuracy: 0.8724\n",
      "Epoch 18/30\n",
      "55000/55000 [==============================] - 3s 58us/sample - loss: 0.4232 - accuracy: 0.8437 - val_loss: 0.3550 - val_accuracy: 0.8720\n",
      "Epoch 19/30\n",
      "55000/55000 [==============================] - 3s 59us/sample - loss: 0.4210 - accuracy: 0.8452 - val_loss: 0.3547 - val_accuracy: 0.8732\n",
      "Epoch 20/30\n",
      "55000/55000 [==============================] - 3s 59us/sample - loss: 0.4180 - accuracy: 0.8473 - val_loss: 0.3606 - val_accuracy: 0.8708\n",
      "Epoch 21/30\n",
      "55000/55000 [==============================] - 3s 60us/sample - loss: 0.4162 - accuracy: 0.8453 - val_loss: 0.3484 - val_accuracy: 0.8734\n",
      "Epoch 22/30\n",
      "55000/55000 [==============================] - 3s 59us/sample - loss: 0.4134 - accuracy: 0.8474 - val_loss: 0.3483 - val_accuracy: 0.8726\n",
      "Epoch 23/30\n",
      "55000/55000 [==============================] - 3s 60us/sample - loss: 0.4088 - accuracy: 0.8495 - val_loss: 0.3445 - val_accuracy: 0.8742\n",
      "Epoch 24/30\n",
      "55000/55000 [==============================] - 3s 62us/sample - loss: 0.4087 - accuracy: 0.8482 - val_loss: 0.3439 - val_accuracy: 0.8748\n",
      "Epoch 25/30\n",
      "55000/55000 [==============================] - 4s 65us/sample - loss: 0.4057 - accuracy: 0.8495 - val_loss: 0.3418 - val_accuracy: 0.8752\n",
      "Epoch 26/30\n",
      "55000/55000 [==============================] - 3s 61us/sample - loss: 0.4018 - accuracy: 0.8496 - val_loss: 0.3386 - val_accuracy: 0.8750\n",
      "Epoch 27/30\n",
      "55000/55000 [==============================] - 3s 60us/sample - loss: 0.4002 - accuracy: 0.8513 - val_loss: 0.3429 - val_accuracy: 0.8720\n",
      "Epoch 28/30\n",
      "55000/55000 [==============================] - 3s 58us/sample - loss: 0.3970 - accuracy: 0.8514 - val_loss: 0.3361 - val_accuracy: 0.8784\n",
      "Epoch 29/30\n",
      "55000/55000 [==============================] - 3s 57us/sample - loss: 0.3945 - accuracy: 0.8537 - val_loss: 0.3412 - val_accuracy: 0.8726\n",
      "Epoch 30/30\n",
      "55000/55000 [==============================] - 3s 58us/sample - loss: 0.3936 - accuracy: 0.8528 - val_loss: 0.3364 - val_accuracy: 0.8774\n"
     ]
    }
   ],
   "source": [
    "history = model.fit(X_train, y_train, epochs=30, validation_data=(X_valid, y_valid))"
   ]
  },
  {
   "cell_type": "code",
   "execution_count": 9,
   "metadata": {},
   "outputs": [
    {
     "name": "stdout",
     "output_type": "stream",
     "text": [
      "10000/10000 [==============================] - 0s 30us/sample - loss: 3.7854 - accuracy: 0.7571\n"
     ]
    },
    {
     "data": {
      "text/plain": [
       "[3.785437512969971, 0.7571]"
      ]
     },
     "execution_count": 9,
     "metadata": {},
     "output_type": "execute_result"
    }
   ],
   "source": [
    "model.evaluate(X_test, y_test)"
   ]
  },
  {
   "cell_type": "code",
   "execution_count": 10,
   "metadata": {},
   "outputs": [
    {
     "data": {
      "text/plain": [
       "array([[0., 0., 0., 0., 0., 0., 0., 0., 0., 1.],\n",
       "       [0., 0., 1., 0., 0., 0., 0., 0., 0., 0.],\n",
       "       [0., 1., 0., 0., 0., 0., 0., 0., 0., 0.]], dtype=float32)"
      ]
     },
     "execution_count": 10,
     "metadata": {},
     "output_type": "execute_result"
    }
   ],
   "source": [
    "X_new = X_test[:3]\n",
    "y_proba = model.predict(X_new)\n",
    "y_proba.round(2)"
   ]
  }
 ],
 "metadata": {
  "kernelspec": {
   "display_name": "Python 3",
   "language": "python",
   "name": "python3"
  },
  "language_info": {
   "codemirror_mode": {
    "name": "ipython",
    "version": 3
   },
   "file_extension": ".py",
   "mimetype": "text/x-python",
   "name": "python",
   "nbconvert_exporter": "python",
   "pygments_lexer": "ipython3",
   "version": "3.6.8"
  }
 },
 "nbformat": 4,
 "nbformat_minor": 4
}
