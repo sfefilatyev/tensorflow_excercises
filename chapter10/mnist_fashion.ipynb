{
 "cells": [
  {
   "cell_type": "code",
   "execution_count": 1,
   "metadata": {
    "scrolled": true
   },
   "outputs": [
    {
     "name": "stderr",
     "output_type": "stream",
     "text": [
      "/home/sfefilatyev/projects/tensorflow_exercises/venv/lib/python3.6/site-packages/tensorflow/python/framework/dtypes.py:516: FutureWarning: Passing (type, 1) or '1type' as a synonym of type is deprecated; in a future version of numpy, it will be understood as (type, (1,)) / '(1,)type'.\n",
      "  _np_qint8 = np.dtype([(\"qint8\", np.int8, 1)])\n",
      "/home/sfefilatyev/projects/tensorflow_exercises/venv/lib/python3.6/site-packages/tensorflow/python/framework/dtypes.py:517: FutureWarning: Passing (type, 1) or '1type' as a synonym of type is deprecated; in a future version of numpy, it will be understood as (type, (1,)) / '(1,)type'.\n",
      "  _np_quint8 = np.dtype([(\"quint8\", np.uint8, 1)])\n",
      "/home/sfefilatyev/projects/tensorflow_exercises/venv/lib/python3.6/site-packages/tensorflow/python/framework/dtypes.py:518: FutureWarning: Passing (type, 1) or '1type' as a synonym of type is deprecated; in a future version of numpy, it will be understood as (type, (1,)) / '(1,)type'.\n",
      "  _np_qint16 = np.dtype([(\"qint16\", np.int16, 1)])\n",
      "/home/sfefilatyev/projects/tensorflow_exercises/venv/lib/python3.6/site-packages/tensorflow/python/framework/dtypes.py:519: FutureWarning: Passing (type, 1) or '1type' as a synonym of type is deprecated; in a future version of numpy, it will be understood as (type, (1,)) / '(1,)type'.\n",
      "  _np_quint16 = np.dtype([(\"quint16\", np.uint16, 1)])\n",
      "/home/sfefilatyev/projects/tensorflow_exercises/venv/lib/python3.6/site-packages/tensorflow/python/framework/dtypes.py:520: FutureWarning: Passing (type, 1) or '1type' as a synonym of type is deprecated; in a future version of numpy, it will be understood as (type, (1,)) / '(1,)type'.\n",
      "  _np_qint32 = np.dtype([(\"qint32\", np.int32, 1)])\n",
      "/home/sfefilatyev/projects/tensorflow_exercises/venv/lib/python3.6/site-packages/tensorflow/python/framework/dtypes.py:525: FutureWarning: Passing (type, 1) or '1type' as a synonym of type is deprecated; in a future version of numpy, it will be understood as (type, (1,)) / '(1,)type'.\n",
      "  np_resource = np.dtype([(\"resource\", np.ubyte, 1)])\n"
     ]
    },
    {
     "name": "stdout",
     "output_type": "stream",
     "text": [
      "2.0.0-beta1\n",
      "2.2.4-tf\n"
     ]
    },
    {
     "name": "stderr",
     "output_type": "stream",
     "text": [
      "/home/sfefilatyev/projects/tensorflow_exercises/venv/lib/python3.6/site-packages/tensorboard/compat/tensorflow_stub/dtypes.py:541: FutureWarning: Passing (type, 1) or '1type' as a synonym of type is deprecated; in a future version of numpy, it will be understood as (type, (1,)) / '(1,)type'.\n",
      "  _np_qint8 = np.dtype([(\"qint8\", np.int8, 1)])\n",
      "/home/sfefilatyev/projects/tensorflow_exercises/venv/lib/python3.6/site-packages/tensorboard/compat/tensorflow_stub/dtypes.py:542: FutureWarning: Passing (type, 1) or '1type' as a synonym of type is deprecated; in a future version of numpy, it will be understood as (type, (1,)) / '(1,)type'.\n",
      "  _np_quint8 = np.dtype([(\"quint8\", np.uint8, 1)])\n",
      "/home/sfefilatyev/projects/tensorflow_exercises/venv/lib/python3.6/site-packages/tensorboard/compat/tensorflow_stub/dtypes.py:543: FutureWarning: Passing (type, 1) or '1type' as a synonym of type is deprecated; in a future version of numpy, it will be understood as (type, (1,)) / '(1,)type'.\n",
      "  _np_qint16 = np.dtype([(\"qint16\", np.int16, 1)])\n",
      "/home/sfefilatyev/projects/tensorflow_exercises/venv/lib/python3.6/site-packages/tensorboard/compat/tensorflow_stub/dtypes.py:544: FutureWarning: Passing (type, 1) or '1type' as a synonym of type is deprecated; in a future version of numpy, it will be understood as (type, (1,)) / '(1,)type'.\n",
      "  _np_quint16 = np.dtype([(\"quint16\", np.uint16, 1)])\n",
      "/home/sfefilatyev/projects/tensorflow_exercises/venv/lib/python3.6/site-packages/tensorboard/compat/tensorflow_stub/dtypes.py:545: FutureWarning: Passing (type, 1) or '1type' as a synonym of type is deprecated; in a future version of numpy, it will be understood as (type, (1,)) / '(1,)type'.\n",
      "  _np_qint32 = np.dtype([(\"qint32\", np.int32, 1)])\n",
      "/home/sfefilatyev/projects/tensorflow_exercises/venv/lib/python3.6/site-packages/tensorboard/compat/tensorflow_stub/dtypes.py:550: FutureWarning: Passing (type, 1) or '1type' as a synonym of type is deprecated; in a future version of numpy, it will be understood as (type, (1,)) / '(1,)type'.\n",
      "  np_resource = np.dtype([(\"resource\", np.ubyte, 1)])\n"
     ]
    }
   ],
   "source": [
    "import tensorflow as tf\n",
    "from tensorflow import keras\n",
    "print(tf.__version__)\n",
    "print(keras.__version__)"
   ]
  },
  {
   "cell_type": "code",
   "execution_count": 2,
   "metadata": {},
   "outputs": [
    {
     "name": "stdout",
     "output_type": "stream",
     "text": [
      "(60000, 28, 28)\n",
      "uint8\n",
      "(60000,)\n",
      "uint8\n",
      "(10000, 28, 28)\n",
      "uint8\n"
     ]
    }
   ],
   "source": [
    "fashion_mnist = keras.datasets.fashion_mnist\n",
    "(X_train_full, y_train_full), (X_test, y_test) = fashion_mnist.load_data()\n",
    "print(X_train_full.shape)\n",
    "print(X_train_full.dtype)\n",
    "print(y_train_full.shape)\n",
    "print(y_train_full.dtype)\n",
    "print(X_test.shape)\n",
    "print(X_test.dtype)"
   ]
  },
  {
   "cell_type": "code",
   "execution_count": 3,
   "metadata": {},
   "outputs": [
    {
     "name": "stdout",
     "output_type": "stream",
     "text": [
      "(55000, 28, 28)\n",
      "(5000, 28, 28)\n",
      "(55000,)\n",
      "(5000,)\n"
     ]
    }
   ],
   "source": [
    "X_valid, X_train = X_train_full[:5000] / 255.0, X_train_full[5000:] / 255.0\n",
    "y_valid, y_train = y_train_full[:5000], y_train_full[5000:]\n",
    "print(X_train.shape)\n",
    "print(X_valid.shape)\n",
    "print(y_train.shape)\n",
    "print(y_valid.shape)"
   ]
  },
  {
   "cell_type": "code",
   "execution_count": 4,
   "metadata": {},
   "outputs": [
    {
     "name": "stdout",
     "output_type": "stream",
     "text": [
      "['Coat', 'T-shirt/top', 'Sneaker', 'Ankle boot', 'Ankle boot', 'Ankle boot', 'Coat', 'Coat', 'Dress', 'Coat']\n"
     ]
    }
   ],
   "source": [
    "class_names = [\"T-shirt/top\", \"Trouser\", \"Pullover\", \"Dress\", \"Coat\",\n",
    "               \"Sandal\", \"Shirt\", \"Sneaker\", \"Bag\", \"Ankle boot\"]\n",
    "print([class_names[x] for x in y_train[:10]])"
   ]
  },
  {
   "cell_type": "code",
   "execution_count": 5,
   "metadata": {},
   "outputs": [
    {
     "name": "stdout",
     "output_type": "stream",
     "text": [
      "Model: \"sequential\"\n",
      "_________________________________________________________________\n",
      "Layer (type)                 Output Shape              Param #   \n",
      "=================================================================\n",
      "flatten (Flatten)            (None, 784)               0         \n",
      "_________________________________________________________________\n",
      "dense (Dense)                (None, 300)               235500    \n",
      "_________________________________________________________________\n",
      "dense_1 (Dense)              (None, 100)               30100     \n",
      "_________________________________________________________________\n",
      "dense_2 (Dense)              (None, 10)                1010      \n",
      "=================================================================\n",
      "Total params: 266,610\n",
      "Trainable params: 266,610\n",
      "Non-trainable params: 0\n",
      "_________________________________________________________________\n",
      "None\n"
     ]
    }
   ],
   "source": [
    "model = keras.models.Sequential()\n",
    "model.add(keras.layers.Flatten(input_shape=[28, 28]))\n",
    "model.add(keras.layers.Dense(300, activation=\"relu\"))\n",
    "model.add(keras.layers.Dense(100, activation=\"relu\"))\n",
    "model.add(keras.layers.Dense(10, activation=\"softmax\"))\n",
    "print(model.summary())"
   ]
  },
  {
   "cell_type": "code",
   "execution_count": 6,
   "metadata": {},
   "outputs": [
    {
     "name": "stdout",
     "output_type": "stream",
     "text": [
      "Model: \"sequential\"\n",
      "_________________________________________________________________\n",
      "Layer (type)                 Output Shape              Param #   \n",
      "=================================================================\n",
      "flatten (Flatten)            (None, 784)               0         \n",
      "_________________________________________________________________\n",
      "dense (Dense)                (None, 300)               235500    \n",
      "_________________________________________________________________\n",
      "dense_1 (Dense)              (None, 100)               30100     \n",
      "_________________________________________________________________\n",
      "dense_2 (Dense)              (None, 10)                1010      \n",
      "=================================================================\n",
      "Total params: 266,610\n",
      "Trainable params: 266,610\n",
      "Non-trainable params: 0\n",
      "_________________________________________________________________\n",
      "None\n"
     ]
    }
   ],
   "source": [
    "print(model.summary())"
   ]
  },
  {
   "cell_type": "code",
   "execution_count": 7,
   "metadata": {},
   "outputs": [],
   "source": [
    "model.compile(loss=\"sparse_categorical_crossentropy\", optimizer=\"sgd\", metrics=[\"accuracy\"])"
   ]
  },
  {
   "cell_type": "code",
   "execution_count": 8,
   "metadata": {},
   "outputs": [
    {
     "name": "stdout",
     "output_type": "stream",
     "text": [
      "WARNING:tensorflow:From /home/sfefilatyev/projects/tensorflow_exercises/venv/lib/python3.6/site-packages/tensorflow/python/ops/math_grad.py:1250: add_dispatch_support.<locals>.wrapper (from tensorflow.python.ops.array_ops) is deprecated and will be removed in a future version.\n",
      "Instructions for updating:\n",
      "Use tf.where in 2.0, which has the same broadcast rule as np.where\n",
      "Train on 55000 samples, validate on 5000 samples\n",
      "Epoch 1/30\n",
      "55000/55000 [==============================] - 3s 48us/sample - loss: 0.7074 - accuracy: 0.7687 - val_loss: 0.4999 - val_accuracy: 0.8336\n",
      "Epoch 2/30\n",
      "55000/55000 [==============================] - 2s 43us/sample - loss: 0.4859 - accuracy: 0.8307 - val_loss: 0.4683 - val_accuracy: 0.8412\n",
      "Epoch 3/30\n",
      "55000/55000 [==============================] - 3s 47us/sample - loss: 0.4420 - accuracy: 0.8447 - val_loss: 0.4162 - val_accuracy: 0.8592\n",
      "Epoch 4/30\n",
      "55000/55000 [==============================] - 2s 44us/sample - loss: 0.4142 - accuracy: 0.8545 - val_loss: 0.4031 - val_accuracy: 0.8596\n",
      "Epoch 5/30\n",
      "55000/55000 [==============================] - 2s 44us/sample - loss: 0.3944 - accuracy: 0.8605 - val_loss: 0.3925 - val_accuracy: 0.8612\n",
      "Epoch 6/30\n",
      "55000/55000 [==============================] - 2s 43us/sample - loss: 0.3783 - accuracy: 0.8647 - val_loss: 0.3650 - val_accuracy: 0.8742\n",
      "Epoch 7/30\n",
      "55000/55000 [==============================] - 2s 43us/sample - loss: 0.3643 - accuracy: 0.8708 - val_loss: 0.3680 - val_accuracy: 0.8726\n",
      "Epoch 8/30\n",
      "55000/55000 [==============================] - 2s 43us/sample - loss: 0.3531 - accuracy: 0.8744 - val_loss: 0.3518 - val_accuracy: 0.8766\n",
      "Epoch 9/30\n",
      "55000/55000 [==============================] - 2s 43us/sample - loss: 0.3422 - accuracy: 0.8780 - val_loss: 0.3586 - val_accuracy: 0.8766\n",
      "Epoch 10/30\n",
      "55000/55000 [==============================] - 2s 43us/sample - loss: 0.3328 - accuracy: 0.8813 - val_loss: 0.3613 - val_accuracy: 0.8752\n",
      "Epoch 11/30\n",
      "55000/55000 [==============================] - 2s 43us/sample - loss: 0.3243 - accuracy: 0.8836 - val_loss: 0.3334 - val_accuracy: 0.8844\n",
      "Epoch 12/30\n",
      "55000/55000 [==============================] - 2s 44us/sample - loss: 0.3157 - accuracy: 0.8873 - val_loss: 0.3331 - val_accuracy: 0.8842\n",
      "Epoch 13/30\n",
      "55000/55000 [==============================] - 2s 44us/sample - loss: 0.3091 - accuracy: 0.8890 - val_loss: 0.3261 - val_accuracy: 0.8846\n",
      "Epoch 14/30\n",
      "55000/55000 [==============================] - 2s 44us/sample - loss: 0.3024 - accuracy: 0.8908 - val_loss: 0.3349 - val_accuracy: 0.8856\n",
      "Epoch 15/30\n",
      "55000/55000 [==============================] - 2s 43us/sample - loss: 0.2963 - accuracy: 0.8931 - val_loss: 0.3325 - val_accuracy: 0.8830\n",
      "Epoch 16/30\n",
      "55000/55000 [==============================] - 2s 45us/sample - loss: 0.2905 - accuracy: 0.8949 - val_loss: 0.3218 - val_accuracy: 0.8858\n",
      "Epoch 17/30\n",
      "55000/55000 [==============================] - 2s 45us/sample - loss: 0.2850 - accuracy: 0.8963 - val_loss: 0.3283 - val_accuracy: 0.8850\n",
      "Epoch 18/30\n",
      "55000/55000 [==============================] - 2s 44us/sample - loss: 0.2790 - accuracy: 0.8985 - val_loss: 0.3161 - val_accuracy: 0.8914\n",
      "Epoch 19/30\n",
      "55000/55000 [==============================] - 2s 43us/sample - loss: 0.2741 - accuracy: 0.9006 - val_loss: 0.3180 - val_accuracy: 0.8870\n",
      "Epoch 20/30\n",
      "55000/55000 [==============================] - 2s 43us/sample - loss: 0.2699 - accuracy: 0.9021 - val_loss: 0.3242 - val_accuracy: 0.8868\n",
      "Epoch 21/30\n",
      "55000/55000 [==============================] - 2s 43us/sample - loss: 0.2641 - accuracy: 0.9047 - val_loss: 0.3132 - val_accuracy: 0.8880\n",
      "Epoch 22/30\n",
      "55000/55000 [==============================] - 2s 44us/sample - loss: 0.2593 - accuracy: 0.9069 - val_loss: 0.3142 - val_accuracy: 0.8894\n",
      "Epoch 23/30\n",
      "55000/55000 [==============================] - 2s 44us/sample - loss: 0.2549 - accuracy: 0.9087 - val_loss: 0.3045 - val_accuracy: 0.8906\n",
      "Epoch 24/30\n",
      "55000/55000 [==============================] - 3s 47us/sample - loss: 0.2511 - accuracy: 0.9097 - val_loss: 0.3084 - val_accuracy: 0.8924\n",
      "Epoch 25/30\n",
      "55000/55000 [==============================] - 3s 47us/sample - loss: 0.2462 - accuracy: 0.9107 - val_loss: 0.3206 - val_accuracy: 0.8874\n",
      "Epoch 26/30\n",
      "55000/55000 [==============================] - 2s 45us/sample - loss: 0.2423 - accuracy: 0.9130 - val_loss: 0.3360 - val_accuracy: 0.8782\n",
      "Epoch 27/30\n",
      "55000/55000 [==============================] - 3s 50us/sample - loss: 0.2378 - accuracy: 0.9152 - val_loss: 0.3633 - val_accuracy: 0.8724\n",
      "Epoch 28/30\n",
      "55000/55000 [==============================] - 2s 45us/sample - loss: 0.2339 - accuracy: 0.9160 - val_loss: 0.3061 - val_accuracy: 0.8878\n",
      "Epoch 29/30\n",
      "55000/55000 [==============================] - 3s 48us/sample - loss: 0.2303 - accuracy: 0.9178 - val_loss: 0.3166 - val_accuracy: 0.8856\n",
      "Epoch 30/30\n",
      "55000/55000 [==============================] - 3s 50us/sample - loss: 0.2265 - accuracy: 0.9191 - val_loss: 0.3159 - val_accuracy: 0.8876\n"
     ]
    }
   ],
   "source": [
    "history = model.fit(X_train, y_train, epochs=30, validation_data=(X_valid, y_valid))"
   ]
  },
  {
   "cell_type": "code",
   "execution_count": 9,
   "metadata": {},
   "outputs": [
    {
     "data": {
      "image/png": "[encoded data removed]",
      "text/plain": [
       "<Figure size 576x360 with 1 Axes>"
      ]
     },
     "metadata": {
      "needs_background": "light"
     },
     "output_type": "display_data"
    }
   ],
   "source": [
    "import pandas as pd\n",
    "import matplotlib.pyplot as plt\n",
    "\n",
    "pd.DataFrame(history.history).plot(figsize=(8, 5))\n",
    "plt.grid(True)\n",
    "plt.gca().set_ylim(0, 1)  # set the vertical range to [0-1]\n",
    "plt.show()"
   ]
  },
  {
   "cell_type": "code",
   "execution_count": 11,
   "metadata": {},
   "outputs": [
    {
     "name": "stdout",
     "output_type": "stream",
     "text": [
      "10000/10000 [==============================] - 0s 22us/sample - loss: 2.1531 - accuracy: 0.8648\n"
     ]
    },
    {
     "data": {
      "text/plain": [
       "[2.15305727882385, 0.8648]"
      ]
     },
     "execution_count": 11,
     "metadata": {},
     "output_type": "execute_result"
    }
   ],
   "source": [
    "model.evaluate(X_test, y_test)"
   ]
  },
  {
   "cell_type": "code",
   "execution_count": 12,
   "metadata": {},
   "outputs": [
    {
     "data": {
      "text/plain": [
       "array([[0., 0., 0., 0., 0., 0., 0., 0., 0., 1.],\n",
       "       [0., 0., 1., 0., 0., 0., 0., 0., 0., 0.],\n",
       "       [0., 1., 0., 0., 0., 0., 0., 0., 0., 0.]], dtype=float32)"
      ]
     },
     "execution_count": 12,
     "metadata": {},
     "output_type": "execute_result"
    }
   ],
   "source": [
    "X_new = X_test[:3]\n",
    "y_proba = model.predict(X_new)\n",
    "y_proba.round(2)\n"
   ]
  },
  {
   "cell_type": "code",
   "execution_count": 14,
   "metadata": {},
   "outputs": [
    {
     "name": "stdout",
     "output_type": "stream",
     "text": [
      "[9 2 1]\n",
      "[9 2 1]\n"
     ]
    }
   ],
   "source": [
    "import numpy as np\n",
    "y_pred = model.predict_classes(X_new)\n",
    "print(y_pred)\n",
    "np.array(class_names)[y_pred]\n",
    "y_new = y_test[:3]\n",
    "print(y_new)"
   ]
  }
 ],
 "metadata": {
  "kernelspec": {
   "display_name": "Python 3",
   "language": "python",
   "name": "python3"
  },
  "language_info": {
   "codemirror_mode": {
    "name": "ipython",
    "version": 3
   },
   "file_extension": ".py",
   "mimetype": "text/x-python",
   "name": "python",
   "nbconvert_exporter": "python",
   "pygments_lexer": "ipython3",
   "version": "3.6.8"
  }
 },
 "nbformat": 4,
 "nbformat_minor": 2
}
