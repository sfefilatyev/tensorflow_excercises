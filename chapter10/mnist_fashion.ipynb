{
 "cells": [
  {
   "cell_type": "code",
   "execution_count": 3,
   "metadata": {
    "scrolled": true
   },
   "outputs": [
    {
     "name": "stdout",
     "output_type": "stream",
     "text": [
      "2.0.0-beta1\n",
      "2.2.4-tf\n"
     ]
    }
   ],
   "source": [
    "import tensorflow as tf\n",
    "from tensorflow import keras\n",
    "print(tf.__version__)\n",
    "print(keras.__version__)"
   ]
  },
  {
   "cell_type": "code",
   "execution_count": 4,
   "metadata": {},
   "outputs": [
    {
     "name": "stdout",
     "output_type": "stream",
     "text": [
      "(60000, 28, 28)\n",
      "uint8\n",
      "(60000,)\n",
      "uint8\n",
      "(10000, 28, 28)\n",
      "uint8\n"
     ]
    }
   ],
   "source": [
    "fashion_mnist = keras.datasets.fashion_mnist\n",
    "(X_train_full, y_train_full), (X_test, y_test) = fashion_mnist.load_data()\n",
    "print(X_train_full.shape)\n",
    "print(X_train_full.dtype)\n",
    "print(y_train_full.shape)\n",
    "print(y_train_full.dtype)\n",
    "print(X_test.shape)\n",
    "print(X_test.dtype)"
   ]
  },
  {
   "cell_type": "code",
   "execution_count": 5,
   "metadata": {},
   "outputs": [
    {
     "name": "stdout",
     "output_type": "stream",
     "text": [
      "(55000, 28, 28)\n",
      "(5000, 28, 28)\n",
      "(55000,)\n",
      "(5000,)\n"
     ]
    }
   ],
   "source": [
    "X_valid, X_train = X_train_full[:5000] / 255.0, X_train_full[5000:] / 255.0\n",
    "y_valid, y_train = y_train_full[:5000], y_train_full[5000:]\n",
    "print(X_train.shape)\n",
    "print(X_valid.shape)\n",
    "print(y_train.shape)\n",
    "print(y_valid.shape)"
   ]
  },
  {
   "cell_type": "code",
   "execution_count": 6,
   "metadata": {},
   "outputs": [
    {
     "name": "stdout",
     "output_type": "stream",
     "text": [
      "['Coat', 'T-shirt/top', 'Sneaker', 'Ankle boot', 'Ankle boot', 'Ankle boot', 'Coat', 'Coat', 'Dress', 'Coat']\n"
     ]
    }
   ],
   "source": [
    "class_names = [\"T-shirt/top\", \"Trouser\", \"Pullover\", \"Dress\", \"Coat\",\n",
    "               \"Sandal\", \"Shirt\", \"Sneaker\", \"Bag\", \"Ankle boot\"]\n",
    "print([class_names[x] for x in y_train[:10]])"
   ]
  },
  {
   "cell_type": "code",
   "execution_count": 7,
   "metadata": {},
   "outputs": [
    {
     "name": "stdout",
     "output_type": "stream",
     "text": [
      "Model: \"sequential\"\n",
      "_________________________________________________________________\n",
      "Layer (type)                 Output Shape              Param #   \n",
      "=================================================================\n",
      "flatten (Flatten)            (None, 784)               0         \n",
      "_________________________________________________________________\n",
      "dense (Dense)                (None, 300)               235500    \n",
      "_________________________________________________________________\n",
      "dense_1 (Dense)              (None, 100)               30100     \n",
      "_________________________________________________________________\n",
      "dense_2 (Dense)              (None, 10)                1010      \n",
      "=================================================================\n",
      "Total params: 266,610\n",
      "Trainable params: 266,610\n",
      "Non-trainable params: 0\n",
      "_________________________________________________________________\n",
      "None\n"
     ]
    }
   ],
   "source": [
    "model = keras.models.Sequential()\n",
    "model.add(keras.layers.Flatten(input_shape=[28, 28]))\n",
    "model.add(keras.layers.Dense(300, activation=\"relu\"))\n",
    "model.add(keras.layers.Dense(100, activation=\"relu\"))\n",
    "model.add(keras.layers.Dense(10, activation=\"softmax\"))\n",
    "print(model.summary())"
   ]
  },
  {
   "cell_type": "code",
   "execution_count": 8,
   "metadata": {},
   "outputs": [
    {
     "name": "stdout",
     "output_type": "stream",
     "text": [
      "Model: \"sequential\"\n",
      "_________________________________________________________________\n",
      "Layer (type)                 Output Shape              Param #   \n",
      "=================================================================\n",
      "flatten (Flatten)            (None, 784)               0         \n",
      "_________________________________________________________________\n",
      "dense (Dense)                (None, 300)               235500    \n",
      "_________________________________________________________________\n",
      "dense_1 (Dense)              (None, 100)               30100     \n",
      "_________________________________________________________________\n",
      "dense_2 (Dense)              (None, 10)                1010      \n",
      "=================================================================\n",
      "Total params: 266,610\n",
      "Trainable params: 266,610\n",
      "Non-trainable params: 0\n",
      "_________________________________________________________________\n",
      "None\n"
     ]
    }
   ],
   "source": [
    "print(model.summary())"
   ]
  },
  {
   "cell_type": "code",
   "execution_count": 9,
   "metadata": {},
   "outputs": [],
   "source": [
    "model.compile(loss=\"sparse_categorical_crossentropy\", optimizer=\"sgd\", metrics=[\"accuracy\"])"
   ]
  },
  {
   "cell_type": "code",
   "execution_count": 10,
   "metadata": {},
   "outputs": [
    {
     "name": "stdout",
     "output_type": "stream",
     "text": [
      "WARNING:tensorflow:From /home/sfefilatyev/projects/tensorflow_exercises/venv/lib/python3.6/site-packages/tensorflow/python/ops/math_grad.py:1250: add_dispatch_support.<locals>.wrapper (from tensorflow.python.ops.array_ops) is deprecated and will be removed in a future version.\n",
      "Instructions for updating:\n",
      "Use tf.where in 2.0, which has the same broadcast rule as np.where\n",
      "Train on 55000 samples, validate on 5000 samples\n",
      "Epoch 1/30\n",
      "55000/55000 [==============================] - 3s 62us/sample - loss: 0.6962 - accuracy: 0.7719 - val_loss: 0.4999 - val_accuracy: 0.8328\n",
      "Epoch 2/30\n",
      "55000/55000 [==============================] - 3s 46us/sample - loss: 0.4830 - accuracy: 0.8309 - val_loss: 0.4382 - val_accuracy: 0.8492\n",
      "Epoch 3/30\n",
      "55000/55000 [==============================] - 2s 43us/sample - loss: 0.4376 - accuracy: 0.8480 - val_loss: 0.4259 - val_accuracy: 0.8508\n",
      "Epoch 4/30\n",
      "55000/55000 [==============================] - 2s 43us/sample - loss: 0.4118 - accuracy: 0.8552 - val_loss: 0.4286 - val_accuracy: 0.8490\n",
      "Epoch 5/30\n",
      "55000/55000 [==============================] - 2s 42us/sample - loss: 0.3921 - accuracy: 0.8632 - val_loss: 0.4127 - val_accuracy: 0.8566\n",
      "Epoch 6/30\n",
      "55000/55000 [==============================] - 2s 43us/sample - loss: 0.3775 - accuracy: 0.8675 - val_loss: 0.3794 - val_accuracy: 0.8690\n",
      "Epoch 7/30\n",
      "55000/55000 [==============================] - 2s 43us/sample - loss: 0.3627 - accuracy: 0.8723 - val_loss: 0.3659 - val_accuracy: 0.8762\n",
      "Epoch 8/30\n",
      "55000/55000 [==============================] - 2s 42us/sample - loss: 0.3516 - accuracy: 0.8754 - val_loss: 0.3559 - val_accuracy: 0.8752\n",
      "Epoch 9/30\n",
      "55000/55000 [==============================] - 2s 42us/sample - loss: 0.3417 - accuracy: 0.8787 - val_loss: 0.3626 - val_accuracy: 0.8698\n",
      "Epoch 10/30\n",
      "55000/55000 [==============================] - 2s 43us/sample - loss: 0.3329 - accuracy: 0.8822 - val_loss: 0.3438 - val_accuracy: 0.8786\n",
      "Epoch 11/30\n",
      "55000/55000 [==============================] - 2s 43us/sample - loss: 0.3245 - accuracy: 0.8848 - val_loss: 0.3392 - val_accuracy: 0.8808\n",
      "Epoch 12/30\n",
      "55000/55000 [==============================] - 3s 46us/sample - loss: 0.3159 - accuracy: 0.8871 - val_loss: 0.3272 - val_accuracy: 0.8848\n",
      "Epoch 13/30\n",
      "55000/55000 [==============================] - 2s 45us/sample - loss: 0.3093 - accuracy: 0.8895 - val_loss: 0.3464 - val_accuracy: 0.8730\n",
      "Epoch 14/30\n",
      "55000/55000 [==============================] - 2s 44us/sample - loss: 0.3014 - accuracy: 0.8921 - val_loss: 0.3283 - val_accuracy: 0.8824\n",
      "Epoch 15/30\n",
      "55000/55000 [==============================] - 2s 44us/sample - loss: 0.2955 - accuracy: 0.8936 - val_loss: 0.3251 - val_accuracy: 0.8824\n",
      "Epoch 16/30\n",
      "55000/55000 [==============================] - 2s 44us/sample - loss: 0.2899 - accuracy: 0.8958 - val_loss: 0.3169 - val_accuracy: 0.8882\n",
      "Epoch 17/30\n",
      "55000/55000 [==============================] - 2s 45us/sample - loss: 0.2844 - accuracy: 0.8976 - val_loss: 0.3176 - val_accuracy: 0.8860\n",
      "Epoch 18/30\n",
      "55000/55000 [==============================] - 2s 43us/sample - loss: 0.2782 - accuracy: 0.9009 - val_loss: 0.3311 - val_accuracy: 0.8778\n",
      "Epoch 19/30\n",
      "55000/55000 [==============================] - 2s 44us/sample - loss: 0.2736 - accuracy: 0.9014 - val_loss: 0.3063 - val_accuracy: 0.8888\n",
      "Epoch 20/30\n",
      "55000/55000 [==============================] - 3s 46us/sample - loss: 0.2679 - accuracy: 0.9042 - val_loss: 0.3127 - val_accuracy: 0.8866\n",
      "Epoch 21/30\n",
      "55000/55000 [==============================] - 2s 45us/sample - loss: 0.2642 - accuracy: 0.9053 - val_loss: 0.3007 - val_accuracy: 0.8936\n",
      "Epoch 22/30\n",
      "55000/55000 [==============================] - 2s 45us/sample - loss: 0.2598 - accuracy: 0.9053 - val_loss: 0.3072 - val_accuracy: 0.8886\n",
      "Epoch 23/30\n",
      "55000/55000 [==============================] - 2s 43us/sample - loss: 0.2548 - accuracy: 0.9073 - val_loss: 0.3233 - val_accuracy: 0.8816\n",
      "Epoch 24/30\n",
      "55000/55000 [==============================] - 2s 43us/sample - loss: 0.2501 - accuracy: 0.9095 - val_loss: 0.2969 - val_accuracy: 0.8936\n",
      "Epoch 25/30\n",
      "55000/55000 [==============================] - 2s 43us/sample - loss: 0.2466 - accuracy: 0.9117 - val_loss: 0.3048 - val_accuracy: 0.8866\n",
      "Epoch 26/30\n",
      "55000/55000 [==============================] - 2s 44us/sample - loss: 0.2418 - accuracy: 0.9125 - val_loss: 0.2994 - val_accuracy: 0.8882\n",
      "Epoch 27/30\n",
      "55000/55000 [==============================] - 3s 46us/sample - loss: 0.2382 - accuracy: 0.9145 - val_loss: 0.3100 - val_accuracy: 0.8892\n",
      "Epoch 28/30\n",
      "55000/55000 [==============================] - 2s 44us/sample - loss: 0.2341 - accuracy: 0.9163 - val_loss: 0.3029 - val_accuracy: 0.8888\n",
      "Epoch 29/30\n",
      "55000/55000 [==============================] - 2s 45us/sample - loss: 0.2307 - accuracy: 0.9169 - val_loss: 0.2999 - val_accuracy: 0.8886\n",
      "Epoch 30/30\n",
      "55000/55000 [==============================] - 2s 43us/sample - loss: 0.2261 - accuracy: 0.9193 - val_loss: 0.2907 - val_accuracy: 0.8940\n"
     ]
    }
   ],
   "source": [
    "history = model.fit(X_train, y_train, epochs=30, validation_data=(X_valid, y_valid))"
   ]
  },
  {
   "cell_type": "code",
   "execution_count": 11,
   "metadata": {},
   "outputs": [
    {
     "data": {
      "image/png": "[encoded data removed]",
      "text/plain": [
       "<Figure size 576x360 with 1 Axes>"
      ]
     },
     "metadata": {
      "needs_background": "light"
     },
     "output_type": "display_data"
    }
   ],
   "source": [
    "import pandas as pd\n",
    "import matplotlib.pyplot as plt\n",
    "\n",
    "pd.DataFrame(history.history).plot(figsize=(8, 5))\n",
    "plt.grid(True)\n",
    "plt.gca().set_ylim(0, 1)  # set the vertical range to [0-1]\n",
    "plt.show()"
   ]
  },
  {
   "cell_type": "code",
   "execution_count": 12,
   "metadata": {},
   "outputs": [
    {
     "name": "stdout",
     "output_type": "stream",
     "text": [
      "10000/10000 [==============================] - 0s 23us/sample - loss: 2.3079 - accuracy: 0.8545\n"
     ]
    },
    {
     "data": {
      "text/plain": [
       "[2.3079091154098483, 0.8545]"
      ]
     },
     "execution_count": 12,
     "metadata": {},
     "output_type": "execute_result"
    }
   ],
   "source": [
    "model.evaluate(X_test, y_test)"
   ]
  },
  {
   "cell_type": "code",
   "execution_count": 13,
   "metadata": {},
   "outputs": [
    {
     "data": {
      "text/plain": [
       "array([[0., 0., 0., 0., 0., 0., 0., 0., 0., 1.],\n",
       "       [0., 0., 1., 0., 0., 0., 0., 0., 0., 0.],\n",
       "       [0., 1., 0., 0., 0., 0., 0., 0., 0., 0.]], dtype=float32)"
      ]
     },
     "execution_count": 13,
     "metadata": {},
     "output_type": "execute_result"
    }
   ],
   "source": [
    "X_new = X_test[:3]\n",
    "y_proba = model.predict(X_new)\n",
    "y_proba.round(2)\n"
   ]
  },
  {
   "cell_type": "code",
   "execution_count": 14,
   "metadata": {},
   "outputs": [
    {
     "name": "stdout",
     "output_type": "stream",
     "text": [
      "[9 2 1]\n",
      "[9 2 1]\n"
     ]
    }
   ],
   "source": [
    "import numpy as np\n",
    "y_pred = model.predict_classes(X_new)\n",
    "print(y_pred)\n",
    "np.array(class_names)[y_pred]\n",
    "y_new = y_test[:3]\n",
    "print(y_new)"
   ]
  }
 ],
 "metadata": {
  "kernelspec": {
   "display_name": "Python 3",
   "language": "python",
   "name": "python3"
  },
  "language_info": {
   "codemirror_mode": {
    "name": "ipython",
    "version": 3
   },
   "file_extension": ".py",
   "mimetype": "text/x-python",
   "name": "python",
   "nbconvert_exporter": "python",
   "pygments_lexer": "ipython3",
   "version": "3.6.8"
  }
 },
 "nbformat": 4,
 "nbformat_minor": 2
}
