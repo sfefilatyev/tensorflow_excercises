{
 "cells": [
  {
   "cell_type": "code",
   "execution_count": 4,
   "metadata": {
    "scrolled": true
   },
   "outputs": [
    {
     "name": "stdout",
     "output_type": "stream",
     "text": [
      "2.0.0-beta1\n",
      "2.2.4-tf\n"
     ]
    }
   ],
   "source": [
    "import tensorflow as tf\n",
    "from tensorflow import keras\n",
    "print(tf.__version__)\n",
    "print(keras.__version__)"
   ]
  },
  {
   "cell_type": "code",
   "execution_count": 5,
   "metadata": {},
   "outputs": [
    {
     "name": "stdout",
     "output_type": "stream",
     "text": [
      "(60000, 28, 28)\n",
      "uint8\n",
      "(60000,)\n",
      "uint8\n",
      "(10000, 28, 28)\n",
      "uint8\n"
     ]
    }
   ],
   "source": [
    "fashion_mnist = keras.datasets.fashion_mnist\n",
    "(X_train_full, y_train_full), (X_test, y_test) = fashion_mnist.load_data()\n",
    "print(X_train_full.shape)\n",
    "print(X_train_full.dtype)\n",
    "print(y_train_full.shape)\n",
    "print(y_train_full.dtype)\n",
    "print(X_test.shape)\n",
    "print(X_test.dtype)"
   ]
  },
  {
   "cell_type": "code",
   "execution_count": 6,
   "metadata": {},
   "outputs": [
    {
     "name": "stdout",
     "output_type": "stream",
     "text": [
      "(55000, 28, 28)\n",
      "(5000, 28, 28)\n",
      "(55000,)\n",
      "(5000,)\n"
     ]
    }
   ],
   "source": [
    "X_valid, X_train = X_train_full[:5000] / 255.0, X_train_full[5000:] / 255.0\n",
    "y_valid, y_train = y_train_full[:5000], y_train_full[5000:]\n",
    "print(X_train.shape)\n",
    "print(X_valid.shape)\n",
    "print(y_train.shape)\n",
    "print(y_valid.shape)"
   ]
  },
  {
   "cell_type": "code",
   "execution_count": 7,
   "metadata": {},
   "outputs": [
    {
     "name": "stdout",
     "output_type": "stream",
     "text": [
      "['Coat', 'T-shirt/top', 'Sneaker', 'Ankle boot', 'Ankle boot', 'Ankle boot', 'Coat', 'Coat', 'Dress', 'Coat']\n"
     ]
    }
   ],
   "source": [
    "class_names = [\"T-shirt/top\", \"Trouser\", \"Pullover\", \"Dress\", \"Coat\",\n",
    "               \"Sandal\", \"Shirt\", \"Sneaker\", \"Bag\", \"Ankle boot\"]\n",
    "print([class_names[x] for x in y_train[:10]])"
   ]
  },
  {
   "cell_type": "code",
   "execution_count": 8,
   "metadata": {},
   "outputs": [
    {
     "name": "stdout",
     "output_type": "stream",
     "text": [
      "Model: \"sequential\"\n",
      "_________________________________________________________________\n",
      "Layer (type)                 Output Shape              Param #   \n",
      "=================================================================\n",
      "flatten (Flatten)            (None, 784)               0         \n",
      "_________________________________________________________________\n",
      "dense (Dense)                (None, 300)               235500    \n",
      "_________________________________________________________________\n",
      "dense_1 (Dense)              (None, 100)               30100     \n",
      "_________________________________________________________________\n",
      "dense_2 (Dense)              (None, 10)                1010      \n",
      "=================================================================\n",
      "Total params: 266,610\n",
      "Trainable params: 266,610\n",
      "Non-trainable params: 0\n",
      "_________________________________________________________________\n",
      "None\n"
     ]
    }
   ],
   "source": [
    "model = keras.models.Sequential()\n",
    "model.add(keras.layers.Flatten(input_shape=[28, 28]))\n",
    "model.add(keras.layers.Dense(300, activation=\"relu\"))\n",
    "model.add(keras.layers.Dense(100, activation=\"relu\"))\n",
    "model.add(keras.layers.Dense(10, activation=\"softmax\"))\n",
    "print(model.summary())"
   ]
  },
  {
   "cell_type": "code",
   "execution_count": 9,
   "metadata": {},
   "outputs": [
    {
     "name": "stdout",
     "output_type": "stream",
     "text": [
      "Model: \"sequential\"\n",
      "_________________________________________________________________\n",
      "Layer (type)                 Output Shape              Param #   \n",
      "=================================================================\n",
      "flatten (Flatten)            (None, 784)               0         \n",
      "_________________________________________________________________\n",
      "dense (Dense)                (None, 300)               235500    \n",
      "_________________________________________________________________\n",
      "dense_1 (Dense)              (None, 100)               30100     \n",
      "_________________________________________________________________\n",
      "dense_2 (Dense)              (None, 10)                1010      \n",
      "=================================================================\n",
      "Total params: 266,610\n",
      "Trainable params: 266,610\n",
      "Non-trainable params: 0\n",
      "_________________________________________________________________\n",
      "None\n"
     ]
    }
   ],
   "source": [
    "print(model.summary())"
   ]
  },
  {
   "cell_type": "code",
   "execution_count": 10,
   "metadata": {},
   "outputs": [],
   "source": [
    "model.compile(loss=\"sparse_categorical_crossentropy\", optimizer=\"sgd\", metrics=[\"accuracy\"])"
   ]
  },
  {
   "cell_type": "code",
   "execution_count": 11,
   "metadata": {},
   "outputs": [
    {
     "name": "stdout",
     "output_type": "stream",
     "text": [
      "WARNING:tensorflow:From /home/sfefilatyev/projects/tensorflow_exercises/venv/lib/python3.6/site-packages/tensorflow/python/ops/math_grad.py:1250: add_dispatch_support.<locals>.wrapper (from tensorflow.python.ops.array_ops) is deprecated and will be removed in a future version.\n",
      "Instructions for updating:\n",
      "Use tf.where in 2.0, which has the same broadcast rule as np.where\n",
      "Train on 55000 samples, validate on 5000 samples\n",
      "Epoch 1/30\n",
      "55000/55000 [==============================] - 4s 64us/sample - loss: 0.7158 - accuracy: 0.7638 - val_loss: 0.5059 - val_accuracy: 0.8338\n",
      "Epoch 2/30\n",
      "55000/55000 [==============================] - 2s 44us/sample - loss: 0.4874 - accuracy: 0.8310 - val_loss: 0.4400 - val_accuracy: 0.8500\n",
      "Epoch 3/30\n",
      "55000/55000 [==============================] - 2s 43us/sample - loss: 0.4429 - accuracy: 0.8452 - val_loss: 0.4195 - val_accuracy: 0.8536\n",
      "Epoch 4/30\n",
      "55000/55000 [==============================] - 2s 43us/sample - loss: 0.4149 - accuracy: 0.8538 - val_loss: 0.4086 - val_accuracy: 0.8480\n",
      "Epoch 5/30\n",
      "55000/55000 [==============================] - 3s 49us/sample - loss: 0.3942 - accuracy: 0.8627 - val_loss: 0.4165 - val_accuracy: 0.8554\n",
      "Epoch 6/30\n",
      "55000/55000 [==============================] - 3s 46us/sample - loss: 0.3789 - accuracy: 0.8656 - val_loss: 0.3700 - val_accuracy: 0.8692\n",
      "Epoch 7/30\n",
      "55000/55000 [==============================] - 3s 49us/sample - loss: 0.3658 - accuracy: 0.8704 - val_loss: 0.3658 - val_accuracy: 0.8738\n",
      "Epoch 8/30\n",
      "55000/55000 [==============================] - 2s 44us/sample - loss: 0.3541 - accuracy: 0.8739 - val_loss: 0.3611 - val_accuracy: 0.8730\n",
      "Epoch 9/30\n",
      "55000/55000 [==============================] - 2s 45us/sample - loss: 0.3439 - accuracy: 0.8770 - val_loss: 0.3766 - val_accuracy: 0.8684\n",
      "Epoch 10/30\n",
      "55000/55000 [==============================] - 3s 52us/sample - loss: 0.3340 - accuracy: 0.8805 - val_loss: 0.3484 - val_accuracy: 0.8750\n",
      "Epoch 11/30\n",
      "55000/55000 [==============================] - 3s 47us/sample - loss: 0.3260 - accuracy: 0.8829 - val_loss: 0.3588 - val_accuracy: 0.8752\n",
      "Epoch 12/30\n",
      "55000/55000 [==============================] - 2s 44us/sample - loss: 0.3184 - accuracy: 0.8855 - val_loss: 0.3480 - val_accuracy: 0.8782\n",
      "Epoch 13/30\n",
      "55000/55000 [==============================] - 2s 44us/sample - loss: 0.3112 - accuracy: 0.8878 - val_loss: 0.3382 - val_accuracy: 0.8812\n",
      "Epoch 14/30\n",
      "55000/55000 [==============================] - 2s 44us/sample - loss: 0.3046 - accuracy: 0.8909 - val_loss: 0.3183 - val_accuracy: 0.8882\n",
      "Epoch 15/30\n",
      "55000/55000 [==============================] - 3s 46us/sample - loss: 0.2976 - accuracy: 0.8938 - val_loss: 0.3184 - val_accuracy: 0.8854\n",
      "Epoch 16/30\n",
      "55000/55000 [==============================] - 3s 46us/sample - loss: 0.2923 - accuracy: 0.8954 - val_loss: 0.3386 - val_accuracy: 0.8800\n",
      "Epoch 17/30\n",
      "55000/55000 [==============================] - 2s 44us/sample - loss: 0.2857 - accuracy: 0.8982 - val_loss: 0.3149 - val_accuracy: 0.8860\n",
      "Epoch 18/30\n",
      "55000/55000 [==============================] - 2s 44us/sample - loss: 0.2803 - accuracy: 0.8984 - val_loss: 0.3182 - val_accuracy: 0.8862\n",
      "Epoch 19/30\n",
      "55000/55000 [==============================] - 2s 44us/sample - loss: 0.2759 - accuracy: 0.9015 - val_loss: 0.3083 - val_accuracy: 0.8924\n",
      "Epoch 20/30\n",
      "55000/55000 [==============================] - 2s 44us/sample - loss: 0.2704 - accuracy: 0.9025 - val_loss: 0.3135 - val_accuracy: 0.8882\n",
      "Epoch 21/30\n",
      "55000/55000 [==============================] - 3s 49us/sample - loss: 0.2654 - accuracy: 0.9040 - val_loss: 0.3087 - val_accuracy: 0.8906\n",
      "Epoch 22/30\n",
      "55000/55000 [==============================] - 3s 46us/sample - loss: 0.2609 - accuracy: 0.9062 - val_loss: 0.3027 - val_accuracy: 0.8918\n",
      "Epoch 23/30\n",
      "55000/55000 [==============================] - 2s 44us/sample - loss: 0.2568 - accuracy: 0.9067 - val_loss: 0.3041 - val_accuracy: 0.8886\n",
      "Epoch 24/30\n",
      "55000/55000 [==============================] - 2s 44us/sample - loss: 0.2514 - accuracy: 0.9090 - val_loss: 0.3050 - val_accuracy: 0.8938\n",
      "Epoch 25/30\n",
      "55000/55000 [==============================] - 2s 44us/sample - loss: 0.2477 - accuracy: 0.9113 - val_loss: 0.2982 - val_accuracy: 0.8930\n",
      "Epoch 26/30\n",
      "55000/55000 [==============================] - 2s 44us/sample - loss: 0.2434 - accuracy: 0.9126 - val_loss: 0.3001 - val_accuracy: 0.8960\n",
      "Epoch 27/30\n",
      "55000/55000 [==============================] - 2s 45us/sample - loss: 0.2393 - accuracy: 0.9141 - val_loss: 0.3237 - val_accuracy: 0.8858\n",
      "Epoch 28/30\n",
      "55000/55000 [==============================] - 2s 45us/sample - loss: 0.2356 - accuracy: 0.9144 - val_loss: 0.3034 - val_accuracy: 0.8918\n",
      "Epoch 29/30\n",
      "55000/55000 [==============================] - 2s 45us/sample - loss: 0.2317 - accuracy: 0.9165 - val_loss: 0.3019 - val_accuracy: 0.8910\n",
      "Epoch 30/30\n",
      "55000/55000 [==============================] - 2s 45us/sample - loss: 0.2272 - accuracy: 0.9185 - val_loss: 0.3007 - val_accuracy: 0.8926\n"
     ]
    }
   ],
   "source": [
    "history = model.fit(X_train, y_train, epochs=30, validation_data=(X_valid, y_valid))"
   ]
  },
  {
   "cell_type": "code",
   "execution_count": 12,
   "metadata": {},
   "outputs": [
    {
     "data": {
      "image/png": "[encoded data removed]",
      "text/plain": [
       "<Figure size 576x360 with 1 Axes>"
      ]
     },
     "metadata": {
      "needs_background": "light"
     },
     "output_type": "display_data"
    }
   ],
   "source": [
    "import pandas as pd\n",
    "import matplotlib.pyplot as plt\n",
    "\n",
    "pd.DataFrame(history.history).plot(figsize=(8, 5))\n",
    "plt.grid(True)\n",
    "plt.gca().set_ylim(0, 1)  # set the vertical range to [0-1]\n",
    "plt.show()"
   ]
  },
  {
   "cell_type": "code",
   "execution_count": 13,
   "metadata": {},
   "outputs": [
    {
     "name": "stdout",
     "output_type": "stream",
     "text": [
      "10000/10000 [==============================] - 0s 25us/sample - loss: 2.6961 - accuracy: 0.8303\n"
     ]
    },
    {
     "data": {
      "text/plain": [
       "[2.6961376725077613, 0.8303]"
      ]
     },
     "execution_count": 13,
     "metadata": {},
     "output_type": "execute_result"
    }
   ],
   "source": [
    "model.evaluate(X_test, y_test)"
   ]
  },
  {
   "cell_type": "code",
   "execution_count": 14,
   "metadata": {},
   "outputs": [
    {
     "data": {
      "text/plain": [
       "array([[0., 0., 0., 0., 0., 0., 0., 0., 0., 1.],\n",
       "       [0., 0., 1., 0., 0., 0., 0., 0., 0., 0.],\n",
       "       [0., 1., 0., 0., 0., 0., 0., 0., 0., 0.]], dtype=float32)"
      ]
     },
     "execution_count": 14,
     "metadata": {},
     "output_type": "execute_result"
    }
   ],
   "source": [
    "X_new = X_test[:3]\n",
    "y_proba = model.predict(X_new)\n",
    "y_proba.round(2)\n"
   ]
  },
  {
   "cell_type": "code",
   "execution_count": 15,
   "metadata": {},
   "outputs": [
    {
     "name": "stdout",
     "output_type": "stream",
     "text": [
      "[9 2 1]\n",
      "[9 2 1]\n"
     ]
    }
   ],
   "source": [
    "import numpy as np\n",
    "y_pred = model.predict_classes(X_new)\n",
    "print(y_pred)\n",
    "np.array(class_names)[y_pred]\n",
    "y_new = y_test[:3]\n",
    "print(y_new)"
   ]
  }
 ],
 "metadata": {
  "kernelspec": {
   "display_name": "Python 3",
   "language": "python",
   "name": "python3"
  },
  "language_info": {
   "codemirror_mode": {
    "name": "ipython",
    "version": 3
   },
   "file_extension": ".py",
   "mimetype": "text/x-python",
   "name": "python",
   "nbconvert_exporter": "python",
   "pygments_lexer": "ipython3",
   "version": "3.6.8"
  }
 },
 "nbformat": 4,
 "nbformat_minor": 2
}
