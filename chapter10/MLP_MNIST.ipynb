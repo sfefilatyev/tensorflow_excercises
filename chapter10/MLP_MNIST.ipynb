{
 "cells": [
  {
   "cell_type": "code",
   "execution_count": null,
   "metadata": {},
   "outputs": [],
   "source": [
    "# Exercise: Train a deep MLP on the MNIST dataset (you can load it using keras.datasets.mnist.load_data(). \n",
    "# See if you can get over 98% precision. Try searching for the optimal learning rate by using the approach \n",
    "# presented in this chapter (i.e., by growing the learning rate exponentially, plotting the loss, and \n",
    "# finding the point where the loss shoots up). Try adding all the bells and whistles—save checkpoints, \n",
    "# use early stopping, and plot learning curves using TensorBoard."
   ]
  }
 ],
 "metadata": {
  "kernelspec": {
   "display_name": "Python 3",
   "language": "python",
   "name": "python3"
  },
  "language_info": {
   "codemirror_mode": {
    "name": "ipython",
    "version": 3
   },
   "file_extension": ".py",
   "mimetype": "text/x-python",
   "name": "python",
   "nbconvert_exporter": "python",
   "pygments_lexer": "ipython3",
   "version": "3.6.8"
  }
 },
 "nbformat": 4,
 "nbformat_minor": 4
}
