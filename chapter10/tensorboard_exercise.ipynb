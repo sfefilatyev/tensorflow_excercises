{
 "cells": [
  {
   "cell_type": "code",
   "execution_count": 1,
   "metadata": {},
   "outputs": [
    {
     "name": "stderr",
     "output_type": "stream",
     "text": [
      "/home/sfefilatyev/projects/tensorflow_exercises/venv/lib/python3.6/site-packages/tensorflow/python/framework/dtypes.py:516: FutureWarning: Passing (type, 1) or '1type' as a synonym of type is deprecated; in a future version of numpy, it will be understood as (type, (1,)) / '(1,)type'.\n",
      "  _np_qint8 = np.dtype([(\"qint8\", np.int8, 1)])\n",
      "/home/sfefilatyev/projects/tensorflow_exercises/venv/lib/python3.6/site-packages/tensorflow/python/framework/dtypes.py:517: FutureWarning: Passing (type, 1) or '1type' as a synonym of type is deprecated; in a future version of numpy, it will be understood as (type, (1,)) / '(1,)type'.\n",
      "  _np_quint8 = np.dtype([(\"quint8\", np.uint8, 1)])\n",
      "/home/sfefilatyev/projects/tensorflow_exercises/venv/lib/python3.6/site-packages/tensorflow/python/framework/dtypes.py:518: FutureWarning: Passing (type, 1) or '1type' as a synonym of type is deprecated; in a future version of numpy, it will be understood as (type, (1,)) / '(1,)type'.\n",
      "  _np_qint16 = np.dtype([(\"qint16\", np.int16, 1)])\n",
      "/home/sfefilatyev/projects/tensorflow_exercises/venv/lib/python3.6/site-packages/tensorflow/python/framework/dtypes.py:519: FutureWarning: Passing (type, 1) or '1type' as a synonym of type is deprecated; in a future version of numpy, it will be understood as (type, (1,)) / '(1,)type'.\n",
      "  _np_quint16 = np.dtype([(\"quint16\", np.uint16, 1)])\n",
      "/home/sfefilatyev/projects/tensorflow_exercises/venv/lib/python3.6/site-packages/tensorflow/python/framework/dtypes.py:520: FutureWarning: Passing (type, 1) or '1type' as a synonym of type is deprecated; in a future version of numpy, it will be understood as (type, (1,)) / '(1,)type'.\n",
      "  _np_qint32 = np.dtype([(\"qint32\", np.int32, 1)])\n",
      "/home/sfefilatyev/projects/tensorflow_exercises/venv/lib/python3.6/site-packages/tensorflow/python/framework/dtypes.py:525: FutureWarning: Passing (type, 1) or '1type' as a synonym of type is deprecated; in a future version of numpy, it will be understood as (type, (1,)) / '(1,)type'.\n",
      "  np_resource = np.dtype([(\"resource\", np.ubyte, 1)])\n",
      "/home/sfefilatyev/projects/tensorflow_exercises/venv/lib/python3.6/site-packages/tensorboard/compat/tensorflow_stub/dtypes.py:541: FutureWarning: Passing (type, 1) or '1type' as a synonym of type is deprecated; in a future version of numpy, it will be understood as (type, (1,)) / '(1,)type'.\n",
      "  _np_qint8 = np.dtype([(\"qint8\", np.int8, 1)])\n",
      "/home/sfefilatyev/projects/tensorflow_exercises/venv/lib/python3.6/site-packages/tensorboard/compat/tensorflow_stub/dtypes.py:542: FutureWarning: Passing (type, 1) or '1type' as a synonym of type is deprecated; in a future version of numpy, it will be understood as (type, (1,)) / '(1,)type'.\n",
      "  _np_quint8 = np.dtype([(\"quint8\", np.uint8, 1)])\n",
      "/home/sfefilatyev/projects/tensorflow_exercises/venv/lib/python3.6/site-packages/tensorboard/compat/tensorflow_stub/dtypes.py:543: FutureWarning: Passing (type, 1) or '1type' as a synonym of type is deprecated; in a future version of numpy, it will be understood as (type, (1,)) / '(1,)type'.\n",
      "  _np_qint16 = np.dtype([(\"qint16\", np.int16, 1)])\n",
      "/home/sfefilatyev/projects/tensorflow_exercises/venv/lib/python3.6/site-packages/tensorboard/compat/tensorflow_stub/dtypes.py:544: FutureWarning: Passing (type, 1) or '1type' as a synonym of type is deprecated; in a future version of numpy, it will be understood as (type, (1,)) / '(1,)type'.\n",
      "  _np_quint16 = np.dtype([(\"quint16\", np.uint16, 1)])\n",
      "/home/sfefilatyev/projects/tensorflow_exercises/venv/lib/python3.6/site-packages/tensorboard/compat/tensorflow_stub/dtypes.py:545: FutureWarning: Passing (type, 1) or '1type' as a synonym of type is deprecated; in a future version of numpy, it will be understood as (type, (1,)) / '(1,)type'.\n",
      "  _np_qint32 = np.dtype([(\"qint32\", np.int32, 1)])\n",
      "/home/sfefilatyev/projects/tensorflow_exercises/venv/lib/python3.6/site-packages/tensorboard/compat/tensorflow_stub/dtypes.py:550: FutureWarning: Passing (type, 1) or '1type' as a synonym of type is deprecated; in a future version of numpy, it will be understood as (type, (1,)) / '(1,)type'.\n",
      "  np_resource = np.dtype([(\"resource\", np.ubyte, 1)])\n"
     ]
    }
   ],
   "source": [
    "from sklearn.datasets import fetch_california_housing\n",
    "from sklearn.model_selection import train_test_split\n",
    "from sklearn.preprocessing import StandardScaler\n",
    "from tensorflow import keras\n",
    "import os"
   ]
  },
  {
   "cell_type": "code",
   "execution_count": 8,
   "metadata": {},
   "outputs": [],
   "source": [
    "housing = fetch_california_housing()\n",
    "X_train_full, X_test, y_train_full, y_test = train_test_split(housing.data, housing.target)\n",
    "X_train, X_valid, y_train, y_valid = train_test_split(X_train_full, y_train_full)\n",
    "\n",
    "scaler = StandardScaler()\n",
    "X_train = scaler.fit_transform(X_train)\n",
    "X_valid = scaler.transform(X_valid)\n",
    "X_test = scaler.transform(X_test)"
   ]
  },
  {
   "cell_type": "code",
   "execution_count": 9,
   "metadata": {},
   "outputs": [
    {
     "name": "stdout",
     "output_type": "stream",
     "text": [
      "Train on 11610 samples, validate on 3870 samples\n",
      "Epoch 1/30\n",
      "11610/11610 [==============================] - 1s 105us/sample - loss: 1.9754 - val_loss: 0.6425\n",
      "Epoch 2/30\n",
      "11610/11610 [==============================] - 0s 34us/sample - loss: 0.5478 - val_loss: 0.4229\n",
      "Epoch 3/30\n",
      "11610/11610 [==============================] - 0s 28us/sample - loss: 0.4242 - val_loss: 0.3786\n",
      "Epoch 4/30\n",
      "11610/11610 [==============================] - 0s 28us/sample - loss: 0.3887 - val_loss: 0.3594\n",
      "Epoch 5/30\n",
      "11610/11610 [==============================] - 0s 29us/sample - loss: 0.3726 - val_loss: 0.4155\n",
      "Epoch 6/30\n",
      "11610/11610 [==============================] - 0s 28us/sample - loss: 0.3814 - val_loss: 0.5810\n",
      "Epoch 7/30\n",
      "11610/11610 [==============================] - 0s 30us/sample - loss: 0.3969 - val_loss: 0.4043\n",
      "Epoch 8/30\n",
      "11610/11610 [==============================] - 0s 30us/sample - loss: 0.3633 - val_loss: 0.3346\n",
      "Epoch 9/30\n",
      "11610/11610 [==============================] - 0s 30us/sample - loss: 0.3403 - val_loss: 0.3276\n",
      "Epoch 10/30\n",
      "11610/11610 [==============================] - 0s 28us/sample - loss: 0.3386 - val_loss: 0.3505\n",
      "Epoch 11/30\n",
      "11610/11610 [==============================] - 0s 32us/sample - loss: 0.3394 - val_loss: 0.3397\n",
      "Epoch 12/30\n",
      "11610/11610 [==============================] - 0s 28us/sample - loss: 0.3392 - val_loss: 0.3158\n",
      "Epoch 13/30\n",
      "11610/11610 [==============================] - 0s 28us/sample - loss: 0.3211 - val_loss: 0.3417\n",
      "Epoch 14/30\n",
      "11610/11610 [==============================] - 0s 29us/sample - loss: 0.3206 - val_loss: 0.4105\n",
      "Epoch 15/30\n",
      "11610/11610 [==============================] - 0s 28us/sample - loss: 0.3332 - val_loss: 0.5560\n",
      "Epoch 16/30\n",
      "11610/11610 [==============================] - 0s 29us/sample - loss: 0.3319 - val_loss: 0.3345\n",
      "Epoch 17/30\n",
      "11610/11610 [==============================] - 0s 28us/sample - loss: 0.3069 - val_loss: 0.3035\n",
      "Epoch 18/30\n",
      "11610/11610 [==============================] - 0s 28us/sample - loss: 0.3052 - val_loss: 0.3123\n",
      "Epoch 19/30\n",
      "11610/11610 [==============================] - 0s 30us/sample - loss: 0.3152 - val_loss: 0.4802\n",
      "Epoch 20/30\n",
      "11610/11610 [==============================] - 0s 31us/sample - loss: 0.3269 - val_loss: 0.4601\n",
      "Epoch 21/30\n",
      "11610/11610 [==============================] - 0s 28us/sample - loss: 0.3188 - val_loss: 0.3399\n",
      "Epoch 22/30\n",
      "11610/11610 [==============================] - 0s 28us/sample - loss: 0.3000 - val_loss: 0.3070\n",
      "Epoch 23/30\n",
      "11610/11610 [==============================] - 0s 29us/sample - loss: 0.2987 - val_loss: 0.3488\n",
      "Epoch 24/30\n",
      "11610/11610 [==============================] - 0s 29us/sample - loss: 0.2983 - val_loss: 0.3264\n",
      "Epoch 25/30\n",
      "11610/11610 [==============================] - 0s 29us/sample - loss: 0.2964 - val_loss: 0.3223\n",
      "Epoch 26/30\n",
      "11610/11610 [==============================] - 0s 29us/sample - loss: 0.2935 - val_loss: 0.4116\n",
      "Epoch 27/30\n",
      "11610/11610 [==============================] - 0s 30us/sample - loss: 0.3170 - val_loss: 0.2890\n",
      "Epoch 28/30\n",
      "11610/11610 [==============================] - 0s 29us/sample - loss: 0.2892 - val_loss: 0.3066\n",
      "Epoch 29/30\n",
      "11610/11610 [==============================] - 0s 29us/sample - loss: 0.2886 - val_loss: 0.3020\n",
      "Epoch 30/30\n",
      "11610/11610 [==============================] - 0s 29us/sample - loss: 0.2888 - val_loss: 0.2889\n"
     ]
    }
   ],
   "source": [
    "# Using callbacks\n",
    "input_ = keras.layers.Input(shape=X_train.shape[1:], name=\"standard_input\")\n",
    "hidden1 = keras.layers.Dense(30, activation=\"relu\")(input_)\n",
    "hidden2 = keras.layers.Dense(30, activation=\"relu\")(hidden1)\n",
    "output = keras.layers.Dense(1, name=\"output\")(hidden2)\n",
    "model7 = keras.Model(inputs=[input_], outputs=[output])\n",
    "model7.compile(loss=\"mse\", optimizer=\"Adam\")\n",
    "\n",
    "root_logdir = os.path.join(os.curdir, \"my_logs\")\n",
    "\n",
    "def get_run_logdir():\n",
    "    import time\n",
    "    run_id = time.strftime(\"run_%Y_%m_%d-%H_%M_%S\")\n",
    "    return os.path.join(root_logdir, run_id)\n",
    "\n",
    "run_logdir = get_run_logdir()\n",
    "\n",
    "tensorboard_cb = keras.callbacks.TensorBoard(run_logdir)\n",
    "history = model7.fit(X_train, y_train, epochs=30,\n",
    "                    validation_data=(X_valid, y_valid), callbacks=[tensorboard_cb])"
   ]
  }
 ],
 "metadata": {
  "kernelspec": {
   "display_name": "Python 3",
   "language": "python",
   "name": "python3"
  },
  "language_info": {
   "codemirror_mode": {
    "name": "ipython",
    "version": 3
   },
   "file_extension": ".py",
   "mimetype": "text/x-python",
   "name": "python",
   "nbconvert_exporter": "python",
   "pygments_lexer": "ipython3",
   "version": "3.6.8"
  }
 },
 "nbformat": 4,
 "nbformat_minor": 2
}
